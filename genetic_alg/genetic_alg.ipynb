{
  "nbformat": 4,
  "nbformat_minor": 0,
  "metadata": {
    "accelerator": "GPU",
    "colab": {
      "name": "genetic_alg.ipynb",
      "provenance": [],
      "collapsed_sections": [],
      "toc_visible": true
    },
    "kernelspec": {
      "display_name": "Python 3",
      "language": "python",
      "name": "python3"
    },
    "language_info": {
      "codemirror_mode": {
        "name": "ipython",
        "version": 3
      },
      "file_extension": ".py",
      "mimetype": "text/x-python",
      "name": "python",
      "nbconvert_exporter": "python",
      "pygments_lexer": "ipython3",
      "version": "3.8.5"
    }
  },
  "cells": [
    {
      "cell_type": "code",
      "metadata": {
        "id": "7EnZn2evEAqn"
      },
      "source": [
        "import numpy as np\n",
        "import matplotlib.pyplot as plt\n",
        "import random\n",
        "import time\n",
        "import pandas as pd\n",
        "import torch\n",
        "random.seed(0)\n",
        "np.random.seed(0)"
      ],
      "execution_count": 49,
      "outputs": []
    },
    {
      "cell_type": "code",
      "metadata": {
        "id": "hfSQKMylgYxm"
      },
      "source": [
        "torch.cuda.empty_cache()"
      ],
      "execution_count": 50,
      "outputs": []
    },
    {
      "cell_type": "code",
      "metadata": {
        "colab": {
          "base_uri": "https://localhost:8080/"
        },
        "id": "SJZUYAVRgYxn",
        "outputId": "d7e4bd0e-738b-46d6-ed09-5bba4bfbbb1d"
      },
      "source": [
        "!lscpu |grep 'Model name'"
      ],
      "execution_count": 51,
      "outputs": [
        {
          "output_type": "stream",
          "text": [
            "Model name:          Intel(R) Xeon(R) CPU @ 2.20GHz\n"
          ],
          "name": "stdout"
        }
      ]
    },
    {
      "cell_type": "code",
      "metadata": {
        "colab": {
          "base_uri": "https://localhost:8080/"
        },
        "id": "M0IPSb5fgYxo",
        "outputId": "7e3e3fd2-c3f8-4a4b-f660-9459aef4dd2f"
      },
      "source": [
        "!nvidia-smi"
      ],
      "execution_count": 52,
      "outputs": [
        {
          "output_type": "stream",
          "text": [
            "Fri Dec 18 01:44:20 2020       \n",
            "+-----------------------------------------------------------------------------+\n",
            "| NVIDIA-SMI 455.45.01    Driver Version: 418.67       CUDA Version: 10.1     |\n",
            "|-------------------------------+----------------------+----------------------+\n",
            "| GPU  Name        Persistence-M| Bus-Id        Disp.A | Volatile Uncorr. ECC |\n",
            "| Fan  Temp  Perf  Pwr:Usage/Cap|         Memory-Usage | GPU-Util  Compute M. |\n",
            "|                               |                      |               MIG M. |\n",
            "|===============================+======================+======================|\n",
            "|   0  Tesla T4            Off  | 00000000:00:04.0 Off |                    0 |\n",
            "| N/A   53C    P0    29W /  70W |    951MiB / 15079MiB |      0%      Default |\n",
            "|                               |                      |                 ERR! |\n",
            "+-------------------------------+----------------------+----------------------+\n",
            "                                                                               \n",
            "+-----------------------------------------------------------------------------+\n",
            "| Processes:                                                                  |\n",
            "|  GPU   GI   CI        PID   Type   Process name                  GPU Memory |\n",
            "|        ID   ID                                                   Usage      |\n",
            "|=============================================================================|\n",
            "|  No running processes found                                                 |\n",
            "+-----------------------------------------------------------------------------+\n"
          ],
          "name": "stdout"
        }
      ]
    },
    {
      "cell_type": "markdown",
      "metadata": {
        "id": "LeEq6ndhmHA-"
      },
      "source": [
        "# genetic alg with numpy"
      ]
    },
    {
      "cell_type": "markdown",
      "metadata": {
        "id": "bi5IXqD8mO_L"
      },
      "source": [
        "## parametrs numpy"
      ]
    },
    {
      "cell_type": "code",
      "metadata": {
        "id": "ZcPG0IzuVPVH"
      },
      "source": [
        "num_weight = 5 \n",
        "weight = np.random.uniform(low=-1.0, high=1.0, size=num_weight) \n",
        "individum = 5000\n",
        "pop_size = (individum, num_weight)\n",
        "new_pop = np.random.uniform(low=-1.0, high=1.0, size=pop_size)\n",
        "max_gen = 1\n",
        "num_parents = 2"
      ],
      "execution_count": 53,
      "outputs": []
    },
    {
      "cell_type": "code",
      "metadata": {
        "colab": {
          "base_uri": "https://localhost:8080/"
        },
        "id": "Xnf2-YjWRQCu",
        "outputId": "cfd1bc76-b697-44a8-d018-35f2d9861282"
      },
      "source": [
        "print('true weight', weight)\n",
        "print('new pop\\n', new_pop)"
      ],
      "execution_count": 54,
      "outputs": [
        {
          "output_type": "stream",
          "text": [
            "true weight [ 0.09762701  0.43037873  0.20552675  0.08976637 -0.1526904 ]\n",
            "new pop\n",
            " [[ 0.29178823 -0.12482558  0.783546    0.92732552 -0.23311696]\n",
            " [ 0.58345008  0.05778984  0.13608912  0.85119328 -0.85792788]\n",
            " [-0.8257414  -0.95956321  0.66523969  0.5563135   0.7400243 ]\n",
            " ...\n",
            " [ 0.13965505 -0.46253891  0.35013717  0.43581487 -0.48760218]\n",
            " [-0.3202963   0.22523203  0.33236399  0.90050225 -0.61397837]\n",
            " [ 0.76240661  0.06244206  0.73611499  0.55511813  0.93864224]]\n"
          ],
          "name": "stdout"
        }
      ]
    },
    {
      "cell_type": "markdown",
      "metadata": {
        "id": "jHG1IxfWmSnE"
      },
      "source": [
        "## visual"
      ]
    },
    {
      "cell_type": "code",
      "metadata": {
        "colab": {
          "base_uri": "https://localhost:8080/",
          "height": 374
        },
        "id": "B26c4izoKmeH",
        "outputId": "d42f6da6-fed4-459b-ea0d-fc6766bef6cf"
      },
      "source": [
        "x = np.linspace(0, 10, 500)\n",
        "y = np.array([\n",
        "    weight[0] * (x**4) + \n",
        "    weight[1] * (x**3) + \n",
        "    weight[2] * (x**2) + \n",
        "    weight[3] * x +\n",
        "    weight[4] for x in x         \n",
        "])\n",
        "\n",
        "fig, ax = plt.subplots(figsize = (12, 6))\n",
        "ax.plot(x, y, label='true', color='#ed8087', linewidth=3)\n",
        "ax.grid(True)\n",
        "ax.legend(fontsize=14)\n",
        "plt.show()"
      ],
      "execution_count": 55,
      "outputs": [
        {
          "output_type": "display_data",
          "data": {
            "image/png": "[encoded data removed]",
            "text/plain": [
              "<Figure size 864x432 with 1 Axes>"
            ]
          },
          "metadata": {
            "tags": [],
            "needs_background": "light"
          }
        }
      ]
    },
    {
      "cell_type": "markdown",
      "metadata": {
        "id": "t3d93DhNmXnl"
      },
      "source": [
        "## fitness funcs "
      ]
    },
    {
      "cell_type": "code",
      "metadata": {
        "id": "17xK7ig8RUE9"
      },
      "source": [
        "def fitnessCupy(weight, pop):\r\n",
        "    out = cp.zeros(pop.shape[0])\r\n",
        "    for i in range(pop.shape[0]):\r\n",
        "        out[i] = cp.linalg.norm(weight-pop[i])\r\n",
        "    return out"
      ],
      "execution_count": 56,
      "outputs": []
    },
    {
      "cell_type": "code",
      "metadata": {
        "id": "JAtqWkzoUJ7_"
      },
      "source": [
        "def fitnessNumpy(weight, pop):\n",
        "    return np.linalg.norm(weight - pop, axis=1)"
      ],
      "execution_count": 57,
      "outputs": []
    },
    {
      "cell_type": "markdown",
      "metadata": {
        "id": "lLUPLJSJmaV9"
      },
      "source": [
        "## parents func"
      ]
    },
    {
      "cell_type": "code",
      "metadata": {
        "id": "ze7Ds--mZ8u_"
      },
      "source": [
        "def parentsNumpy(pop, fitness, num_parents):\n",
        "    parents = np.empty((num_parents, pop.shape[1]))\n",
        "    for parent_num in range(num_parents):\n",
        "        max_fitness_idx = np.argmin(fitness)\n",
        "        parents[parent_num, :] = pop[max_fitness_idx, :]\n",
        "        fitness[max_fitness_idx] = np.inf\n",
        "    return parents"
      ],
      "execution_count": 58,
      "outputs": []
    },
    {
      "cell_type": "markdown",
      "metadata": {
        "id": "PeLfDbfbmeEw"
      },
      "source": [
        "## crossover func"
      ]
    },
    {
      "cell_type": "code",
      "metadata": {
        "id": "v6tEq0Z5ZoTX"
      },
      "source": [
        "def crossoverNumpy(parents, offspring_size):\n",
        "    offspring = np.empty(offspring_size)\n",
        "    crossover_point = np.uint8(offspring_size[1]/2)\n",
        "\n",
        "    for k in range(offspring_size[0]):\n",
        "        parent1_idx = k % parents.shape[0]\n",
        "        parent2_idx = (k + 1) % parents.shape[0]\n",
        "        offspring[k, :crossover_point] = parents[parent1_idx, :crossover_point]\n",
        "        offspring[k, crossover_point:] = parents[parent2_idx, crossover_point:]\n",
        "\n",
        "    return offspring"
      ],
      "execution_count": 59,
      "outputs": []
    },
    {
      "cell_type": "markdown",
      "metadata": {
        "id": "E7u9zPvzmhDY"
      },
      "source": [
        "## mutation func"
      ]
    },
    {
      "cell_type": "code",
      "metadata": {
        "id": "2jCFyZXlacJr"
      },
      "source": [
        "def mutationNumpy(offspring_crossover):\n",
        "    for idx in range(offspring_crossover.shape[0]):\n",
        "        random_value = np.random.uniform(-1.0, 1.0, 1)\n",
        "        offspring_crossover[idx, 2] = offspring_crossover[idx, 2] + random_value\n",
        "\n",
        "    return offspring_crossover"
      ],
      "execution_count": 60,
      "outputs": []
    },
    {
      "cell_type": "markdown",
      "metadata": {
        "id": "kMH4hhc6mlJA"
      },
      "source": [
        "## example"
      ]
    },
    {
      "cell_type": "code",
      "metadata": {
        "id": "l0Zw3acUadwx"
      },
      "source": [
        "t = time.time()\n",
        "for _ in range(max_gen):\n",
        "    fitness = fitnessNumpy(weight, new_pop)\n",
        "    parents = parentsNumpy(new_pop, fitness, num_parents)\n",
        "    offspring_crossover = crossoverNumpy(parents, offspring_size=(pop_size[0] - parents.shape[0], num_weight))\n",
        "    offspring_mutation = mutationNumpy(offspring_crossover)\n",
        "    new_pop[:parents.shape[0], :] = parents\n",
        "    new_pop[parents.shape[0]:, :] = offspring_mutation\n",
        "time_cpu = round(time.time() - t, 2)"
      ],
      "execution_count": 61,
      "outputs": []
    },
    {
      "cell_type": "code",
      "metadata": {
        "id": "GZRL8gRo5E4g",
        "colab": {
          "base_uri": "https://localhost:8080/"
        },
        "outputId": "4b801f20-372a-4ee8-ae78-96ba71255402"
      },
      "source": [
        "time_cpu"
      ],
      "execution_count": 62,
      "outputs": [
        {
          "output_type": "execute_result",
          "data": {
            "text/plain": [
              "0.03"
            ]
          },
          "metadata": {
            "tags": []
          },
          "execution_count": 62
        }
      ]
    },
    {
      "cell_type": "markdown",
      "metadata": {
        "id": "IGpWASSsmrrc"
      },
      "source": [
        "## visual true and predict polynom"
      ]
    },
    {
      "cell_type": "code",
      "metadata": {
        "id": "NO-SfLBZa2ko",
        "colab": {
          "base_uri": "https://localhost:8080/",
          "height": 374
        },
        "outputId": "e21df716-1213-494c-bc8d-245e54dc480b"
      },
      "source": [
        "best_weight = new_pop[np.argmin(fitnessNumpy(weight, new_pop))]\n",
        "y_pred = np.array([\n",
        "    best_weight[0] * (x**4) + \n",
        "    best_weight[1] * (x**3) + \n",
        "    best_weight[2] * (x**2) + \n",
        "    best_weight[3] * x +\n",
        "    best_weight[4] for x in x         \n",
        "])\n",
        "\n",
        "fig, ax = plt.subplots(figsize = (12, 6))\n",
        "ax.plot(x, y, label='true', color='#ed8087', linewidth=3)\n",
        "ax.plot(x, y_pred, label='predicted', color='#d036ff', linewidth=3)\n",
        "ax.grid(True)\n",
        "ax.legend(fontsize=14)\n",
        "plt.savefig('cpu.jpg')\n",
        "plt.show()"
      ],
      "execution_count": 63,
      "outputs": [
        {
          "output_type": "display_data",
          "data": {
            "image/png": "[encoded data removed]",
            "text/plain": [
              "<Figure size 864x432 with 1 Axes>"
            ]
          },
          "metadata": {
            "tags": [],
            "needs_background": "light"
          }
        }
      ]
    },
    {
      "cell_type": "markdown",
      "metadata": {
        "id": "lRTOt65umxA6"
      },
      "source": [
        "## table best weight and true weight"
      ]
    },
    {
      "cell_type": "code",
      "metadata": {
        "id": "cs0VT064jVVz"
      },
      "source": [
        "data = pd.DataFrame(data={\n",
        "    'best_weight': best_weight,\n",
        "    'true_weight': weight\n",
        "})"
      ],
      "execution_count": 64,
      "outputs": []
    },
    {
      "cell_type": "code",
      "metadata": {
        "id": "M8rszuV6jmLA",
        "colab": {
          "base_uri": "https://localhost:8080/",
          "height": 206
        },
        "outputId": "d6b5f65c-e5e7-4693-a0b3-97bf8453579a"
      },
      "source": [
        "data"
      ],
      "execution_count": 65,
      "outputs": [
        {
          "output_type": "execute_result",
          "data": {
            "text/html": [
              "<div>\n",
              "<style scoped>\n",
              "    .dataframe tbody tr th:only-of-type {\n",
              "        vertical-align: middle;\n",
              "    }\n",
              "\n",
              "    .dataframe tbody tr th {\n",
              "        vertical-align: top;\n",
              "    }\n",
              "\n",
              "    .dataframe thead th {\n",
              "        text-align: right;\n",
              "    }\n",
              "</style>\n",
              "<table border=\"1\" class=\"dataframe\">\n",
              "  <thead>\n",
              "    <tr style=\"text-align: right;\">\n",
              "      <th></th>\n",
              "      <th>best_weight</th>\n",
              "      <th>true_weight</th>\n",
              "    </tr>\n",
              "  </thead>\n",
              "  <tbody>\n",
              "    <tr>\n",
              "      <th>0</th>\n",
              "      <td>0.137554</td>\n",
              "      <td>0.097627</td>\n",
              "    </tr>\n",
              "    <tr>\n",
              "      <th>1</th>\n",
              "      <td>0.381748</td>\n",
              "      <td>0.430379</td>\n",
              "    </tr>\n",
              "    <tr>\n",
              "      <th>2</th>\n",
              "      <td>0.205850</td>\n",
              "      <td>0.205527</td>\n",
              "    </tr>\n",
              "    <tr>\n",
              "      <th>3</th>\n",
              "      <td>-0.000537</td>\n",
              "      <td>0.089766</td>\n",
              "    </tr>\n",
              "    <tr>\n",
              "      <th>4</th>\n",
              "      <td>-0.006901</td>\n",
              "      <td>-0.152690</td>\n",
              "    </tr>\n",
              "  </tbody>\n",
              "</table>\n",
              "</div>"
            ],
            "text/plain": [
              "   best_weight  true_weight\n",
              "0     0.137554     0.097627\n",
              "1     0.381748     0.430379\n",
              "2     0.205850     0.205527\n",
              "3    -0.000537     0.089766\n",
              "4    -0.006901    -0.152690"
            ]
          },
          "metadata": {
            "tags": []
          },
          "execution_count": 65
        }
      ]
    },
    {
      "cell_type": "markdown",
      "metadata": {
        "id": "HMP9aCDEm4gX"
      },
      "source": [
        "## time statics"
      ]
    },
    {
      "cell_type": "code",
      "metadata": {
        "id": "Adulh8OhpOWZ"
      },
      "source": [
        "df = pd.DataFrame(data={\n",
        "    'CPU':{\n",
        "        'time':time_cpu,\n",
        "        'gen':max_gen\n",
        "    }\n",
        "})"
      ],
      "execution_count": 66,
      "outputs": []
    },
    {
      "cell_type": "code",
      "metadata": {
        "id": "q_2sb7J2hJ0V"
      },
      "source": [
        "def fitnessTorch(weight, pop):\r\n",
        "    out = torch.zeros(pop.shape[0]).cuda()\r\n",
        "    for i in range(pop.shape[0]):\r\n",
        "        out[i] = torch.linalg.norm(weight - pop[i]).cuda()\r\n",
        "    return out"
      ],
      "execution_count": 67,
      "outputs": []
    },
    {
      "cell_type": "code",
      "metadata": {
        "id": "1wdGCaHQqsXg"
      },
      "source": [
        "def parentsTorch(pop, fitness, num_parents):\r\n",
        "    parents = torch.empty((num_parents, pop.shape[1])).cuda()\r\n",
        "    for parent_num in range(num_parents):\r\n",
        "        max_fitness_idx = torch.argmin(fitness)\r\n",
        "        parents[parent_num, :] = pop[max_fitness_idx, :]\r\n",
        "        fitness[max_fitness_idx] = 9e9\r\n",
        "    return parents"
      ],
      "execution_count": 68,
      "outputs": []
    },
    {
      "cell_type": "code",
      "metadata": {
        "id": "T8OrjfdWr_-O"
      },
      "source": [
        "def crossoverTorch(parents, offspring_size):\r\n",
        "    offspring = torch.empty(offspring_size).cuda()\r\n",
        "    crossover_point = np.uint8(offspring_size[1]/2)\r\n",
        "\r\n",
        "    for k in range(offspring_size[0]):\r\n",
        "        parent1_idx = k % parents.shape[0]\r\n",
        "        parent2_idx = (k + 1) % parents.shape[0]\r\n",
        "        offspring[k, :crossover_point] = parents[parent1_idx, :crossover_point]\r\n",
        "        offspring[k, crossover_point:] = parents[parent2_idx, crossover_point:]\r\n",
        "\r\n",
        "    return offspring"
      ],
      "execution_count": 69,
      "outputs": []
    },
    {
      "cell_type": "code",
      "metadata": {
        "id": "_14k5HNEsSfX"
      },
      "source": [
        "def mutationTorch(offspring_crossover):\r\n",
        "    for idx in range(offspring_crossover.shape[0]):\r\n",
        "        random_value = torch.randn(1).cuda()\r\n",
        "        offspring_crossover[idx, 2] = offspring_crossover[idx, 2] + random_value\r\n",
        "\r\n",
        "    return offspring_crossover"
      ],
      "execution_count": 70,
      "outputs": []
    },
    {
      "cell_type": "code",
      "metadata": {
        "id": "vcoEoTKWqsS8"
      },
      "source": [
        "t = time.time()\r\n",
        "weight = torch.from_numpy(weight).cuda()\r\n",
        "new_pop = torch.from_numpy(new_pop).cuda()\r\n",
        "for _ in range(max_gen):\r\n",
        "    fitness = fitnessTorch(weight, new_pop)\r\n",
        "    parents = parentsTorch(new_pop, fitness, num_parents)\r\n",
        "    offspring_crossover = crossoverTorch(parents, offspring_size=(pop_size[0] - parents.shape[0], num_weight))\r\n",
        "    offspring_mutation = mutationTorch(offspring_crossover)\r\n",
        "    new_pop[:parents.shape[0], :] = parents\r\n",
        "    new_pop[parents.shape[0]:, :] = offspring_mutation\r\n",
        "timeTorch = round(time.time() - t, 2)"
      ],
      "execution_count": 71,
      "outputs": []
    },
    {
      "cell_type": "code",
      "metadata": {
        "colab": {
          "base_uri": "https://localhost:8080/"
        },
        "id": "AQbmXVm0vA0W",
        "outputId": "8ee1095c-06a3-4502-f29d-2ab0bdc73243"
      },
      "source": [
        "timeTorch"
      ],
      "execution_count": 72,
      "outputs": [
        {
          "output_type": "execute_result",
          "data": {
            "text/plain": [
              "0.73"
            ]
          },
          "metadata": {
            "tags": []
          },
          "execution_count": 72
        }
      ]
    },
    {
      "cell_type": "code",
      "metadata": {
        "colab": {
          "base_uri": "https://localhost:8080/",
          "height": 133
        },
        "id": "KT50E2Jdrj3u",
        "outputId": "ea756c46-bb97-4dd5-83fe-1473b22e13bf"
      },
      "source": [
        "best_weight = new_pop[torch.argmin(fitnessTorch(weight, new_pop))]\r\n",
        "y_pred = np.array([\r\n",
        "    best_weight[0] * (x**4) + \r\n",
        "    best_weight[1] * (x**3) + \r\n",
        "    best_weight[2] * (x**2) + \r\n",
        "    best_weight[3] * x +\r\n",
        "    best_weight[4] for x in x         \r\n",
        "])\r\n",
        "\r\n",
        "fig, ax = plt.subplots(figsize = (12, 6))\r\n",
        "ax.plot(x, y, label='true', color='#ed8087', linewidth=3)\r\n",
        "ax.plot(x, y_pred, label='predicted', color='#36ff', l\r\n",
        "ax.gid(True)\r\n",
        "ax.legend(fontsize=14)\r\n",
        "plt.savefig('gpu.jpg')\r\n",
        "plt.show()\r\n",
        "\r\n",
        "fig.show()"
      ],
      "execution_count": 73,
      "outputs": [
        {
          "output_type": "error",
          "ename": "SyntaxError",
          "evalue": "ignored",
          "traceback": [
            "\u001b[0;36m  File \u001b[0;32m\"<ipython-input-73-3e24f5c63b25>\"\u001b[0;36m, line \u001b[0;32m13\u001b[0m\n\u001b[0;31m    ax.gid(True)\u001b[0m\n\u001b[0m     ^\u001b[0m\n\u001b[0;31mSyntaxError\u001b[0m\u001b[0;31m:\u001b[0m invalid syntax\n"
          ]
        }
      ]
    },
    {
      "cell_type": "code",
      "metadata": {
        "id": "2D7f3Av_1Ern"
      },
      "source": [
        ""
      ],
      "execution_count": null,
      "outputs": []
    },
    {
      "cell_type": "code",
      "metadata": {
        "id": "Z3NcBQfOgYyB"
      },
      "source": [
        ""
      ],
      "execution_count": null,
      "outputs": []
    }
  ]
}