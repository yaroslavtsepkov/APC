{
 "cells": [
  {
   "cell_type": "code",
   "execution_count": 1,
   "metadata": {
    "id": "7EnZn2evEAqn"
   },
   "outputs": [
    {
     "name": "stderr",
     "output_type": "stream",
     "text": [
      "/home/essea/develop/pycuda_projects/pycuda_projects_env/lib/python3.8/site-packages/skcuda/cublas.py:284: UserWarning: creating CUBLAS context to get version number\n",
      "  warnings.warn('creating CUBLAS context to get version number')\n"
     ]
    }
   ],
   "source": [
    "import numpy as np\n",
    "import matplotlib.pyplot as plt\n",
    "import random\n",
    "import time\n",
    "import pandas as pd\n",
    "import cupy as cp\n",
    "import torch\n",
    "import pycuda.autoinit\n",
    "from pycuda import gpuarray, cumath, curandom\n",
    "from skcuda import linalg, misc\n",
    "linalg.init()\n",
    "misc.init()\n",
    "random.seed(0)\n",
    "np.random.seed(0)"
   ]
  },
  {
   "cell_type": "code",
   "execution_count": 24,
   "metadata": {},
   "outputs": [
    {
     "name": "stdout",
     "output_type": "stream",
     "text": [
      "Model name:                      AMD Ryzen 7 2700 Eight-Core Processor\n"
     ]
    }
   ],
   "source": [
    "!lscpu |grep 'Model name'"
   ]
  },
  {
   "cell_type": "code",
   "execution_count": 25,
   "metadata": {},
   "outputs": [
    {
     "name": "stdout",
     "output_type": "stream",
     "text": [
      "Thu Dec 17 03:59:39 2020       \n",
      "+-----------------------------------------------------------------------------+\n",
      "| NVIDIA-SMI 455.38       Driver Version: 455.38       CUDA Version: 11.1     |\n",
      "|-------------------------------+----------------------+----------------------+\n",
      "| GPU  Name        Persistence-M| Bus-Id        Disp.A | Volatile Uncorr. ECC |\n",
      "| Fan  Temp  Perf  Pwr:Usage/Cap|         Memory-Usage | GPU-Util  Compute M. |\n",
      "|                               |                      |               MIG M. |\n",
      "|===============================+======================+======================|\n",
      "|   0  GeForce GTX 106...  Off  | 00000000:0A:00.0  On |                  N/A |\n",
      "| 28%   51C    P2    33W / 120W |   1686MiB /  3016MiB |      0%      Default |\n",
      "|                               |                      |                  N/A |\n",
      "+-------------------------------+----------------------+----------------------+\n",
      "                                                                               \n",
      "+-----------------------------------------------------------------------------+\n",
      "| Processes:                                                                  |\n",
      "|  GPU   GI   CI        PID   Type   Process name                  GPU Memory |\n",
      "|        ID   ID                                                   Usage      |\n",
      "|=============================================================================|\n",
      "|    0   N/A  N/A      1236      G   /usr/lib/xorg/Xorg                170MiB |\n",
      "|    0   N/A  N/A      1843      G   xfwm4                               2MiB |\n",
      "|    0   N/A  N/A      2552      C   ...a_projects_env/bin/python       57MiB |\n",
      "|    0   N/A  N/A      6429      C   ...a_projects_env/bin/python      726MiB |\n",
      "|    0   N/A  N/A      6723      C   ...a_projects_env/bin/python      726MiB |\n",
      "+-----------------------------------------------------------------------------+\n"
     ]
    }
   ],
   "source": [
    "!nvidia-smi"
   ]
  },
  {
   "cell_type": "markdown",
   "metadata": {
    "id": "LeEq6ndhmHA-"
   },
   "source": [
    "# genetic alg with numpy"
   ]
  },
  {
   "cell_type": "markdown",
   "metadata": {
    "id": "bi5IXqD8mO_L"
   },
   "source": [
    "## parametrs numpy"
   ]
  },
  {
   "cell_type": "code",
   "execution_count": 3,
   "metadata": {
    "id": "ZcPG0IzuVPVH"
   },
   "outputs": [],
   "source": [
    "num_weight = 5 \n",
    "weight = np.random.uniform(low=-1.0, high=1.0, size=num_weight) \n",
    "individum = 500\n",
    "pop_size = (individum, num_weight)\n",
    "new_pop = np.random.uniform(low=-1.0, high=1.0, size=pop_size)\n",
    "max_gen = 500\n",
    "num_parents = 2"
   ]
  },
  {
   "cell_type": "code",
   "execution_count": 4,
   "metadata": {
    "colab": {
     "base_uri": "https://localhost:8080/"
    },
    "id": "Xnf2-YjWRQCu",
    "outputId": "baca8c25-f7c4-4ac2-dbe7-2a969cab7c66"
   },
   "outputs": [
    {
     "name": "stdout",
     "output_type": "stream",
     "text": [
      "true weight [ 0.09762701  0.43037873  0.20552675  0.08976637 -0.1526904 ]\n",
      "new pop\n",
      " [[ 0.29178823 -0.12482558  0.783546    0.92732552 -0.23311696]\n",
      " [ 0.58345008  0.05778984  0.13608912  0.85119328 -0.85792788]\n",
      " [-0.8257414  -0.95956321  0.66523969  0.5563135   0.7400243 ]\n",
      " ...\n",
      " [ 0.38922181 -0.91345865  0.60152102 -0.24513963  0.34047788]\n",
      " [-0.05667187  0.40467829  0.44866196 -0.61685797  0.32434847]\n",
      " [ 0.70264688 -0.5288656   0.51636694  0.26765023  0.91025207]]\n"
     ]
    }
   ],
   "source": [
    "print('true weight', weight)\n",
    "print('new pop\\n', new_pop)"
   ]
  },
  {
   "cell_type": "markdown",
   "metadata": {
    "id": "jHG1IxfWmSnE"
   },
   "source": [
    "## visual"
   ]
  },
  {
   "cell_type": "code",
   "execution_count": 5,
   "metadata": {
    "colab": {
     "base_uri": "https://localhost:8080/",
     "height": 374
    },
    "id": "B26c4izoKmeH",
    "outputId": "59b981d9-b944-4f24-c405-f5e0522800d5"
   },
   "outputs": [
    {
     "data": {
      "image/png": "[encoded data removed]",
      "text/plain": [
       "<Figure size 864x432 with 1 Axes>"
      ]
     },
     "metadata": {
      "needs_background": "light"
     },
     "output_type": "display_data"
    }
   ],
   "source": [
    "x = np.linspace(0, 10, 500)\n",
    "y = np.array([\n",
    "    weight[0] * (x**4) + \n",
    "    weight[1] * (x**3) + \n",
    "    weight[2] * (x**2) + \n",
    "    weight[3] * x +\n",
    "    weight[4] for x in x         \n",
    "])\n",
    "\n",
    "fig, ax = plt.subplots(figsize = (12, 6))\n",
    "ax.plot(x, y, label='true', color='#ed8087', linewidth=3)\n",
    "ax.grid(True)\n",
    "ax.legend(fontsize=14)\n",
    "\n",
    "plt.show()"
   ]
  },
  {
   "cell_type": "markdown",
   "metadata": {
    "id": "t3d93DhNmXnl"
   },
   "source": [
    "## fitness funcs "
   ]
  },
  {
   "cell_type": "code",
   "execution_count": 6,
   "metadata": {
    "id": "17xK7ig8RUE9"
   },
   "outputs": [],
   "source": [
    "def fitnessCupy(weight, pop):\r\n",
    "    out = cp.zeros(pop.shape[0])\r\n",
    "    for i in range(pop.shape[0]):\r\n",
    "        out[i] = cp.linalg.norm(weight-pop[i])\r\n",
    "    return out"
   ]
  },
  {
   "cell_type": "code",
   "execution_count": 7,
   "metadata": {
    "id": "JAtqWkzoUJ7_"
   },
   "outputs": [],
   "source": [
    "def fitnessNumpy(weight, pop):\n",
    "    return np.linalg.norm(weight - pop, axis=1)"
   ]
  },
  {
   "cell_type": "markdown",
   "metadata": {
    "id": "lLUPLJSJmaV9"
   },
   "source": [
    "## parents func"
   ]
  },
  {
   "cell_type": "code",
   "execution_count": 8,
   "metadata": {
    "id": "ze7Ds--mZ8u_"
   },
   "outputs": [],
   "source": [
    "def parentsNumpy(pop, fitness, num_parents):\n",
    "    parents = np.empty((num_parents, pop.shape[1]))\n",
    "    for parent_num in range(num_parents):\n",
    "        max_fitness_idx = np.argmin(fitness)\n",
    "        parents[parent_num, :] = pop[max_fitness_idx, :]\n",
    "        fitness[max_fitness_idx] = np.inf\n",
    "    return parents"
   ]
  },
  {
   "cell_type": "markdown",
   "metadata": {
    "id": "PeLfDbfbmeEw"
   },
   "source": [
    "## crossover func"
   ]
  },
  {
   "cell_type": "code",
   "execution_count": 9,
   "metadata": {
    "id": "v6tEq0Z5ZoTX"
   },
   "outputs": [],
   "source": [
    "def crossoverNumpy(parents, offspring_size):\n",
    "    offspring = np.empty(offspring_size)\n",
    "    crossover_point = np.uint8(offspring_size[1]/2)\n",
    "\n",
    "    for k in range(offspring_size[0]):\n",
    "        parent1_idx = k % parents.shape[0]\n",
    "        parent2_idx = (k + 1) % parents.shape[0]\n",
    "        offspring[k, :crossover_point] = parents[parent1_idx, :crossover_point]\n",
    "        offspring[k, crossover_point:] = parents[parent2_idx, crossover_point:]\n",
    "\n",
    "    return offspring"
   ]
  },
  {
   "cell_type": "markdown",
   "metadata": {
    "id": "E7u9zPvzmhDY"
   },
   "source": [
    "## mutation func"
   ]
  },
  {
   "cell_type": "code",
   "execution_count": 10,
   "metadata": {
    "id": "2jCFyZXlacJr"
   },
   "outputs": [],
   "source": [
    "def mutationNumpy(offspring_crossover):\n",
    "    for idx in range(offspring_crossover.shape[0]):\n",
    "        random_value = np.random.uniform(-1.0, 1.0, 1)\n",
    "        offspring_crossover[idx, 2] = offspring_crossover[idx, 2] + random_value\n",
    "\n",
    "    return offspring_crossover"
   ]
  },
  {
   "cell_type": "markdown",
   "metadata": {
    "id": "kMH4hhc6mlJA"
   },
   "source": [
    "## example"
   ]
  },
  {
   "cell_type": "code",
   "execution_count": 11,
   "metadata": {
    "id": "l0Zw3acUadwx"
   },
   "outputs": [],
   "source": [
    "t = time.time()\n",
    "for _ in range(max_gen):\n",
    "    fitness = fitnessNumpy(weight, new_pop)\n",
    "    parents = parentsNumpy(new_pop, fitness, num_parents)\n",
    "    offspring_crossover = crossoverNumpy(parents, offspring_size=(pop_size[0] - parents.shape[0], num_weight))\n",
    "    offspring_mutation = mutationNumpy(offspring_crossover)\n",
    "    new_pop[:parents.shape[0], :] = parents\n",
    "    new_pop[parents.shape[0]:, :] = offspring_mutation\n",
    "time_cpu = round(time.time() - t, 2)"
   ]
  },
  {
   "cell_type": "code",
   "execution_count": 12,
   "metadata": {
    "id": "GZRL8gRo5E4g"
   },
   "outputs": [
    {
     "data": {
      "text/plain": [
       "1.82"
      ]
     },
     "execution_count": 12,
     "metadata": {},
     "output_type": "execute_result"
    }
   ],
   "source": [
    "time_cpu"
   ]
  },
  {
   "cell_type": "markdown",
   "metadata": {
    "id": "IGpWASSsmrrc"
   },
   "source": [
    "## visual true and predict polynom"
   ]
  },
  {
   "cell_type": "code",
   "execution_count": 13,
   "metadata": {
    "id": "NO-SfLBZa2ko"
   },
   "outputs": [
    {
     "data": {
      "image/png": "[encoded data removed]",
      "text/plain": [
       "<Figure size 864x432 with 1 Axes>"
      ]
     },
     "metadata": {
      "needs_background": "light"
     },
     "output_type": "display_data"
    }
   ],
   "source": [
    "best_weight = new_pop[np.argmin(fitnessNumpy(weight, new_pop))]\n",
    "y_pred = np.array([\n",
    "    best_weight[0] * (x**4) + \n",
    "    best_weight[1] * (x**3) + \n",
    "    best_weight[2] * (x**2) + \n",
    "    best_weight[3] * x +\n",
    "    best_weight[4] for x in x         \n",
    "])\n",
    "\n",
    "fig, ax = plt.subplots(figsize = (12, 6))\n",
    "ax.plot(x, y, label='true', color='#ed8087', linewidth=3)\n",
    "ax.plot(x, y_pred, label='predicted', color='#d036ff', linewidth=3)\n",
    "ax.grid(True)\n",
    "ax.legend(fontsize=14)\n",
    "\n",
    "plt.show()"
   ]
  },
  {
   "cell_type": "markdown",
   "metadata": {
    "id": "lRTOt65umxA6"
   },
   "source": [
    "## table best weight and true weight"
   ]
  },
  {
   "cell_type": "code",
   "execution_count": 14,
   "metadata": {
    "id": "cs0VT064jVVz"
   },
   "outputs": [],
   "source": [
    "data = pd.DataFrame(data={\n",
    "    'best_weight': best_weight,\n",
    "    'true_weight': weight\n",
    "})"
   ]
  },
  {
   "cell_type": "code",
   "execution_count": 15,
   "metadata": {
    "id": "M8rszuV6jmLA"
   },
   "outputs": [
    {
     "data": {
      "text/html": [
       "<div>\n",
       "<style scoped>\n",
       "    .dataframe tbody tr th:only-of-type {\n",
       "        vertical-align: middle;\n",
       "    }\n",
       "\n",
       "    .dataframe tbody tr th {\n",
       "        vertical-align: top;\n",
       "    }\n",
       "\n",
       "    .dataframe thead th {\n",
       "        text-align: right;\n",
       "    }\n",
       "</style>\n",
       "<table border=\"1\" class=\"dataframe\">\n",
       "  <thead>\n",
       "    <tr style=\"text-align: right;\">\n",
       "      <th></th>\n",
       "      <th>best_weight</th>\n",
       "      <th>true_weight</th>\n",
       "    </tr>\n",
       "  </thead>\n",
       "  <tbody>\n",
       "    <tr>\n",
       "      <th>0</th>\n",
       "      <td>0.181746</td>\n",
       "      <td>0.097627</td>\n",
       "    </tr>\n",
       "    <tr>\n",
       "      <th>1</th>\n",
       "      <td>0.148650</td>\n",
       "      <td>0.430379</td>\n",
       "    </tr>\n",
       "    <tr>\n",
       "      <th>2</th>\n",
       "      <td>0.205525</td>\n",
       "      <td>0.205527</td>\n",
       "    </tr>\n",
       "    <tr>\n",
       "      <th>3</th>\n",
       "      <td>0.304207</td>\n",
       "      <td>0.089766</td>\n",
       "    </tr>\n",
       "    <tr>\n",
       "      <th>4</th>\n",
       "      <td>-0.137163</td>\n",
       "      <td>-0.152690</td>\n",
       "    </tr>\n",
       "  </tbody>\n",
       "</table>\n",
       "</div>"
      ],
      "text/plain": [
       "   best_weight  true_weight\n",
       "0     0.181746     0.097627\n",
       "1     0.148650     0.430379\n",
       "2     0.205525     0.205527\n",
       "3     0.304207     0.089766\n",
       "4    -0.137163    -0.152690"
      ]
     },
     "execution_count": 15,
     "metadata": {},
     "output_type": "execute_result"
    }
   ],
   "source": [
    "data"
   ]
  },
  {
   "cell_type": "markdown",
   "metadata": {
    "id": "HMP9aCDEm4gX"
   },
   "source": [
    "## time statics"
   ]
  },
  {
   "cell_type": "code",
   "execution_count": 16,
   "metadata": {
    "id": "Adulh8OhpOWZ"
   },
   "outputs": [],
   "source": [
    "df = pd.DataFrame(data={\n",
    "    'CPU':{\n",
    "        'time':time_cpu,\n",
    "        'gen':max_gen\n",
    "    }\n",
    "})"
   ]
  },
  {
   "cell_type": "code",
   "execution_count": 17,
   "metadata": {
    "id": "q_2sb7J2hJ0V"
   },
   "outputs": [],
   "source": [
    "def fitnessTorch(weight, pop):\n",
    "    out = torch.zeros(pop.shape[0]).cuda()\r\n",
    "    for i in range(pop.shape[0]):\r\n",
    "        out[i] = torch.linalg.norm(weight - pop[i]).cuda()\r\n",
    "    return out"
   ]
  },
  {
   "cell_type": "code",
   "execution_count": 18,
   "metadata": {
    "id": "1wdGCaHQqsXg"
   },
   "outputs": [],
   "source": [
    "def parentsTorch(pop, fitness, num_parents):\n",
    "    parents = torch.empty((num_parents, pop.shape[1])).cuda()\r\n",
    "    for parent_num in range(num_parents):\r\n",
    "        max_fitness_idx = torch.argmin(fitness)\r\n",
    "        parents[parent_num, :] = pop[max_fitness_idx, :]\r\n",
    "        fitness[max_fitness_idx] = 9e9\r\n",
    "    return parents"
   ]
  },
  {
   "cell_type": "code",
   "execution_count": 19,
   "metadata": {
    "id": "T8OrjfdWr_-O"
   },
   "outputs": [],
   "source": [
    "def crossoverTorch(parents, offspring_size):\n",
    "    offspring = torch.empty(offspring_size).cuda()\r\n",
    "    crossover_point = np.uint8(offspring_size[1]/2)\r\n",
    "\r\n",
    "    for k in range(offspring_size[0]):\r\n",
    "        parent1_idx = k % parents.shape[0]\r\n",
    "        parent2_idx = (k + 1) % parents.shape[0]\r\n",
    "        offspring[k, :crossover_point] = parents[parent1_idx, :crossover_point]\r\n",
    "        offspring[k, crossover_point:] = parents[parent2_idx, crossover_point:]\r\n",
    "\r\n",
    "    return offspring"
   ]
  },
  {
   "cell_type": "code",
   "execution_count": 20,
   "metadata": {
    "id": "_14k5HNEsSfX"
   },
   "outputs": [],
   "source": [
    "def mutationTorch(offspring_crossover):\r\n",
    "    for idx in range(offspring_crossover.shape[0]):\r\n",
    "        random_value = torch.randn(1).cuda()\r\n",
    "        offspring_crossover[idx, 2] = offspring_crossover[idx, 2] + random_value\r\n",
    "\r\n",
    "    return offspring_crossover"
   ]
  },
  {
   "cell_type": "code",
   "execution_count": 21,
   "metadata": {
    "colab": {
     "base_uri": "https://localhost:8080/",
     "height": 381
    },
    "id": "vcoEoTKWqsS8",
    "outputId": "ac5a2052-669d-4f90-ec07-34ca0c2cf840"
   },
   "outputs": [],
   "source": [
    "t = time.time()\r\n",
    "weight = torch.from_numpy(weight).cuda()\r\n",
    "new_pop = torch.from_numpy(new_pop).cuda()\r\n",
    "for _ in range(max_gen):\r\n",
    "    fitness = fitnessTorch(weight, new_pop)\r\n",
    "    parents = parentsTorch(new_pop, fitness, num_parents)\r\n",
    "    offspring_crossover = crossoverTorch(parents, offspring_size=(pop_size[0] - parents.shape[0], num_weight))\r\n",
    "    offspring_mutation = mutationTorch(offspring_crossover)\r\n",
    "    new_pop[:parents.shape[0], :] = parents\r\n",
    "    new_pop[parents.shape[0]:, :] = offspring_mutation\r\n",
    "timeTorch = round(time.time() - t, 2)"
   ]
  },
  {
   "cell_type": "code",
   "execution_count": 22,
   "metadata": {
    "colab": {
     "base_uri": "https://localhost:8080/"
    },
    "id": "AQbmXVm0vA0W",
    "outputId": "ae84b86f-3125-4b08-c026-5d285c494130"
   },
   "outputs": [
    {
     "data": {
      "text/plain": [
       "38.57"
      ]
     },
     "execution_count": 22,
     "metadata": {},
     "output_type": "execute_result"
    }
   ],
   "source": [
    "timeTorch"
   ]
  },
  {
   "cell_type": "code",
   "execution_count": 30,
   "metadata": {
    "colab": {
     "base_uri": "https://localhost:8080/",
     "height": 374
    },
    "id": "KT50E2Jdrj3u",
    "outputId": "21b643d6-f6d1-40e9-e1c1-45a4147ad1ab"
   },
   "outputs": [
    {
     "ename": "NameError",
     "evalue": "name 'TrueTrue' is not defined",
     "output_type": "error",
     "traceback": [
      "\u001b[0;31m---------------------------------------------------------------------------\u001b[0m",
      "\u001b[0;31mNameError\u001b[0m                                 Traceback (most recent call last)",
      "\u001b[0;32m<ipython-input-30-ebec8639e573>\u001b[0m in \u001b[0;36m<module>\u001b[0;34m\u001b[0m\n\u001b[1;32m     11\u001b[0m \u001b[0max\u001b[0m\u001b[0;34m.\u001b[0m\u001b[0mplot\u001b[0m\u001b[0;34m(\u001b[0m\u001b[0mx\u001b[0m\u001b[0;34m,\u001b[0m \u001b[0my\u001b[0m\u001b[0;34m,\u001b[0m \u001b[0mlabel\u001b[0m\u001b[0;34m=\u001b[0m\u001b[0;34m'true'\u001b[0m\u001b[0;34m,\u001b[0m \u001b[0mcolor\u001b[0m\u001b[0;34m=\u001b[0m\u001b[0;34m'#ed8087'\u001b[0m\u001b[0;34m,\u001b[0m \u001b[0mlinewidth\u001b[0m\u001b[0;34m=\u001b[0m\u001b[0;36m3\u001b[0m\u001b[0;34m)\u001b[0m\u001b[0;34m\u001b[0m\u001b[0;34m\u001b[0m\u001b[0m\n\u001b[1;32m     12\u001b[0m \u001b[0max\u001b[0m\u001b[0;34m.\u001b[0m\u001b[0mplot\u001b[0m\u001b[0;34m(\u001b[0m\u001b[0mx\u001b[0m\u001b[0;34m,\u001b[0m \u001b[0my_pred\u001b[0m\u001b[0;34m,\u001b[0m \u001b[0mlabel\u001b[0m\u001b[0;34m=\u001b[0m\u001b[0;34m'predicted'\u001b[0m\u001b[0;34m,\u001b[0m \u001b[0mcolor\u001b[0m\u001b[0;34m=\u001b[0m\u001b[0;34m'#d036ff'\u001b[0m\u001b[0;34m,\u001b[0m \u001b[0mlinewidth\u001b[0m\u001b[0;34m=\u001b[0m\u001b[0;36m3\u001b[0m\u001b[0;34m)\u001b[0m\u001b[0;34m\u001b[0m\u001b[0;34m\u001b[0m\u001b[0m\n\u001b[0;32m---> 13\u001b[0;31m \u001b[0max\u001b[0m\u001b[0;34m.\u001b[0m\u001b[0mgrid\u001b[0m\u001b[0;34m(\u001b[0m\u001b[0mTrueTrue\u001b[0m\u001b[0;34m)\u001b[0m\u001b[0;34m(\u001b[0m\u001b[0mffigsize\u001b[0m\u001b[0;34m=\u001b[0m\u001b[0;36m14\u001b[0m\u001b[0;34m)\u001b[0m\u001b[0;34m\u001b[0m\u001b[0;34m\u001b[0m\u001b[0m\n\u001b[0m\u001b[1;32m     14\u001b[0m \u001b[0;34m\u001b[0m\u001b[0m\n\u001b[1;32m     15\u001b[0m \u001b[0mfig\u001b[0m\u001b[0;34m.\u001b[0m\u001b[0mshow\u001b[0m\u001b[0;34m(\u001b[0m\u001b[0;34m)\u001b[0m\u001b[0;34m\u001b[0m\u001b[0;34m\u001b[0m\u001b[0m\n",
      "\u001b[0;31mNameError\u001b[0m: name 'TrueTrue' is not defined"
     ]
    },
    {
     "data": {
      "image/png": "[encoded data removed]",
      "text/plain": [
       "<Figure size 864x432 with 1 Axes>"
      ]
     },
     "metadata": {
      "needs_background": "light"
     },
     "output_type": "display_data"
    }
   ],
   "source": [
    "best_weight = new_pop[torch.argmin(fitnessTorch(weight, new_pop))]\r\n",
    "y_pred = np.array([\r\n",
    "    best_weight[0] * (x**4) + \r\n",
    "    best_weight[1] * (x**3) + \r\n",
    "    best_weight[2] * (x**2) + \r\n",
    "    best_weight[3] * x +\r\n",
    "    best_weight[4] for x in x         \r\n",
    "])\r\n",
    "\r\n",
    "fig, ax = plt.subplots(figsize = (12, 6))\r\n",
    "ax.plot(x, y, label='true', color='#ed8087', linewidth=3)\r\n",
    "ax.plot(x, y_pred, label='predicted', color='#d036ff', linewidth=3)\r\n",
    ")ffigsize=14)\r\n",
    "\r\n",
    "fig.show()"
   ]
  },
  {
   "cell_type": "code",
   "execution_count": null,
   "metadata": {
    "id": "2D7f3Av_1Ern"
   },
   "outputs": [],
   "source": []
  }
 ],
 "metadata": {
  "accelerator": "GPU",
  "colab": {
   "collapsed_sections": [],
   "name": "genetic_alg.ipynb",
   "provenance": [],
   "toc_visible": true
  },
  "kernelspec": {
   "display_name": "Python 3",
   "language": "python",
   "name": "python3"
  },
  "language_info": {
   "codemirror_mode": {
    "name": "ipython",
    "version": 3
   },
   "file_extension": ".py",
   "mimetype": "text/x-python",
   "name": "python",
   "nbconvert_exporter": "python",
   "pygments_lexer": "ipython3",
   "version": "3.8.5"
  }
 },
 "nbformat": 4,
 "nbformat_minor": 4
}
