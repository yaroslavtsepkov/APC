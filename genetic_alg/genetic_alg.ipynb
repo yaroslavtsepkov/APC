{
  "nbformat": 4,
  "nbformat_minor": 0,
  "metadata": {
    "colab": {
      "name": "genetic_alg.ipynb",
      "private_outputs": true,
      "provenance": [],
      "collapsed_sections": [],
      "toc_visible": true,
      "authorship_tag": "ABX9TyMgAKTjjta+Z/b1hI+zLN5W",
      "include_colab_link": true
    },
    "kernelspec": {
      "name": "python3",
      "display_name": "Python 3"
    },
    "accelerator": "GPU"
  },
  "cells": [
    {
      "cell_type": "markdown",
      "metadata": {
        "id": "view-in-github",
        "colab_type": "text"
      },
      "source": [
        "<a href=\"https://colab.research.google.com/github/yaroslavtsepkov/APC/blob/main/genetic_alg/genetic_alg.ipynb\" target=\"_parent\"><img src=\"https://colab.research.google.com/assets/colab-badge.svg\" alt=\"Open In Colab\"/></a>"
      ]
    },
    {
      "cell_type": "code",
      "metadata": {
        "id": "7EnZn2evEAqn"
      },
      "source": [
        "import numpy as np\n",
        "import matplotlib.pyplot as plt\n",
        "import random\n",
        "import time\n",
        "import pandas as pd\n",
        "\n",
        "random.seed(0)"
      ],
      "execution_count": null,
      "outputs": []
    },
    {
      "cell_type": "markdown",
      "metadata": {
        "id": "LeEq6ndhmHA-"
      },
      "source": [
        "# genetic alg with numpy"
      ]
    },
    {
      "cell_type": "markdown",
      "metadata": {
        "id": "bi5IXqD8mO_L"
      },
      "source": [
        "## parametrs"
      ]
    },
    {
      "cell_type": "code",
      "metadata": {
        "id": "ZcPG0IzuVPVH"
      },
      "source": [
        "num_weight = 5 \n",
        "weight = np.random.uniform(low=-1.0, high=1.0, size=num_weight) \n",
        "individum = 1000\n",
        "pop_size = (individum, num_weight)\n",
        "new_pop = np.random.uniform(low=-1.0, high=1.0, size=pop_size)\n",
        "max_gen = 2000\n",
        "num_parents = 8"
      ],
      "execution_count": null,
      "outputs": []
    },
    {
      "cell_type": "markdown",
      "metadata": {
        "id": "jHG1IxfWmSnE"
      },
      "source": [
        "## visual"
      ]
    },
    {
      "cell_type": "code",
      "metadata": {
        "id": "B26c4izoKmeH"
      },
      "source": [
        "x = np.linspace(0, 10, 500)\n",
        "y = np.array([\n",
        "    weight[0] * (x**4) + \n",
        "    weight[1] * (x**3) + \n",
        "    weight[2] * (x**2) + \n",
        "    weight[3] * x +\n",
        "    weight[4] for x in x         \n",
        "])\n",
        "\n",
        "fig, ax = plt.subplots(figsize = (12, 6))\n",
        "ax.plot(x, y, label='true', color='#ed8087', linewidth=3)\n",
        "ax.grid(True)\n",
        "ax.legend(fontsize=14)\n",
        "\n",
        "fig.show()"
      ],
      "execution_count": null,
      "outputs": []
    },
    {
      "cell_type": "markdown",
      "metadata": {
        "id": "t3d93DhNmXnl"
      },
      "source": [
        "## fitness func"
      ]
    },
    {
      "cell_type": "code",
      "metadata": {
        "id": "Vpu_9ls0uuiI"
      },
      "source": [
        "np.array(new_pop).shape"
      ],
      "execution_count": null,
      "outputs": []
    },
    {
      "cell_type": "code",
      "metadata": {
        "id": "wpQAlldYOz79"
      },
      "source": [
        "def fitnessGA(weight, pop):\n",
        "    fitness = []\n",
        "    for p in pop:\n",
        "        fitness.append(np.sum([np.abs(weight[i] - p[i]) / (np.abs(weight[i]) + 1e-6) for i in range(weight.shape[0])]))\n",
        "    return np.array(fitness)"
      ],
      "execution_count": null,
      "outputs": []
    },
    {
      "cell_type": "code",
      "metadata": {
        "id": "880TiPELI_xi"
      },
      "source": [
        "def fitnessGA(weight, pop):\n",
        "    fitness = []\n",
        "    for p in pop:\n",
        "        fitness.append(np.sqrt(((weight - p) ** 2).mean()))\n",
        "    return fitness"
      ],
      "execution_count": null,
      "outputs": []
    },
    {
      "cell_type": "code",
      "metadata": {
        "id": "dXSBqh0AuXQL"
      },
      "source": [
        "t = time.time()\n",
        "fitness = fitnessGA(weight, new_pop)\n",
        "print('time', time.time() - t)"
      ],
      "execution_count": null,
      "outputs": []
    },
    {
      "cell_type": "code",
      "metadata": {
        "id": "caB_9ObQujwg"
      },
      "source": [
        "fitness"
      ],
      "execution_count": null,
      "outputs": []
    },
    {
      "cell_type": "markdown",
      "metadata": {
        "id": "lLUPLJSJmaV9"
      },
      "source": [
        "## parents func"
      ]
    },
    {
      "cell_type": "code",
      "metadata": {
        "id": "ze7Ds--mZ8u_"
      },
      "source": [
        "def matingPoolGA(pop, fitness, num_parents):\n",
        "    parents = np.empty((num_parents, pop.shape[1]))\n",
        "    first = True\n",
        "    for parent_num in range(num_parents):\n",
        "        max_fitness_idx = np.argmin(fitness)\n",
        "        parents[parent_num, :] = pop[max_fitness_idx, :]\n",
        "        fitness[max_fitness_idx] = 99999999999\n",
        "    return parents"
      ],
      "execution_count": null,
      "outputs": []
    },
    {
      "cell_type": "markdown",
      "metadata": {
        "id": "PeLfDbfbmeEw"
      },
      "source": [
        "## crossover func"
      ]
    },
    {
      "cell_type": "code",
      "metadata": {
        "id": "v6tEq0Z5ZoTX"
      },
      "source": [
        "def crossoverGA(parents, offspring_size):\n",
        "    offspring = np.empty(offspring_size)\n",
        "    crossover_point = np.uint8(offspring_size[1]/2)\n",
        "\n",
        "    for k in range(offspring_size[0]):\n",
        "        parent1_idx = k % parents.shape[0]\n",
        "        parent2_idx = (k + 1) % parents.shape[0]\n",
        "        offspring[k, :crossover_point] = parents[parent1_idx, :crossover_point]\n",
        "        offspring[k, crossover_point:] = parents[parent2_idx, crossover_point:]\n",
        "\n",
        "    return offspring"
      ],
      "execution_count": null,
      "outputs": []
    },
    {
      "cell_type": "markdown",
      "metadata": {
        "id": "E7u9zPvzmhDY"
      },
      "source": [
        "## mutation func"
      ]
    },
    {
      "cell_type": "code",
      "metadata": {
        "id": "2jCFyZXlacJr"
      },
      "source": [
        "def mutationGA(offspring_crossover):\n",
        "    for idx in range(offspring_crossover.shape[0]):\n",
        "        random_value = np.random.uniform(-1.0, 1.0, 1)\n",
        "        offspring_crossover[idx, 2] = offspring_crossover[idx, 2] + random_value\n",
        "\n",
        "    return offspring_crossover"
      ],
      "execution_count": null,
      "outputs": []
    },
    {
      "cell_type": "markdown",
      "metadata": {
        "id": "kMH4hhc6mlJA"
      },
      "source": [
        "## example"
      ]
    },
    {
      "cell_type": "code",
      "metadata": {
        "id": "l0Zw3acUadwx"
      },
      "source": [
        "data_time = [] \n",
        "data_cpu = pd.DataFrame()\n",
        "t = time.time()\n",
        "for _ in range(max_gen):\n",
        "    t1 = time.time()\n",
        "    fitness = fitnessGA(weight, new_pop)\n",
        "    parents = matingPoolGA(new_pop, fitness, num_parents)\n",
        "    offspring_crossover = crossoverGA(parents, offspring_size=(pop_size[0] - parents.shape[0], num_weight))\n",
        "    offspring_mutation = mutationGA(offspring_crossover)\n",
        "    new_pop[:parents.shape[0], :] = parents\n",
        "    new_pop[parents.shape[0]:, :] = offspring_mutation\n",
        "time_cpu = round(time.time() - t, 2)"
      ],
      "execution_count": null,
      "outputs": []
    },
    {
      "cell_type": "markdown",
      "metadata": {
        "id": "IGpWASSsmrrc"
      },
      "source": [
        "## visual true and predict polynom"
      ]
    },
    {
      "cell_type": "code",
      "metadata": {
        "id": "NO-SfLBZa2ko"
      },
      "source": [
        "best_weight = new_pop[np.argmin(fitnessGA(weight, new_pop))]\n",
        "y_pred = np.array([\n",
        "    best_weight[0] * (x**4) + \n",
        "    best_weight[1] * (x**3) + \n",
        "    best_weight[2] * (x**2) + \n",
        "    best_weight[3] * x +\n",
        "    best_weight[4] for x in x         \n",
        "])\n",
        "\n",
        "fig, ax = plt.subplots(figsize = (12, 6))\n",
        "ax.plot(x, y, label='true', color='#ed8087', linewidth=3)\n",
        "ax.plot(x, y_pred, label='predicted', color='#d036ff', linewidth=3)\n",
        "ax.grid(True)\n",
        "ax.legend(fontsize=14)\n",
        "\n",
        "fig.show()"
      ],
      "execution_count": null,
      "outputs": []
    },
    {
      "cell_type": "markdown",
      "metadata": {
        "id": "lRTOt65umxA6"
      },
      "source": [
        "## table best weight and true weight"
      ]
    },
    {
      "cell_type": "code",
      "metadata": {
        "id": "cs0VT064jVVz"
      },
      "source": [
        "data = pd.DataFrame(data={\n",
        "    'best_weight': best_weight,\n",
        "    'true_weight': weight\n",
        "})"
      ],
      "execution_count": null,
      "outputs": []
    },
    {
      "cell_type": "code",
      "metadata": {
        "id": "M8rszuV6jmLA"
      },
      "source": [
        "data"
      ],
      "execution_count": null,
      "outputs": []
    },
    {
      "cell_type": "markdown",
      "metadata": {
        "id": "HMP9aCDEm4gX"
      },
      "source": [
        "## time statics"
      ]
    },
    {
      "cell_type": "code",
      "metadata": {
        "id": "Adulh8OhpOWZ"
      },
      "source": [
        "df = pd.DataFrame(data={\n",
        "    'CPU':{\n",
        "        'time':time_cpu,\n",
        "        'gen':max_gen\n",
        "    }\n",
        "})"
      ],
      "execution_count": null,
      "outputs": []
    },
    {
      "cell_type": "code",
      "metadata": {
        "id": "q_2sb7J2hJ0V"
      },
      "source": [
        "df"
      ],
      "execution_count": null,
      "outputs": []
    },
    {
      "cell_type": "markdown",
      "metadata": {
        "id": "0Y0v5onfnqL5"
      },
      "source": [
        "# genetic alg with cupy "
      ]
    },
    {
      "cell_type": "markdown",
      "metadata": {
        "id": "e4bFXq_Qnu0I"
      },
      "source": [
        "## import library"
      ]
    },
    {
      "cell_type": "code",
      "metadata": {
        "id": "KDKjVMHfTlZQ"
      },
      "source": [
        "!curl https://colab.chainer.org/install | sh -"
      ],
      "execution_count": null,
      "outputs": []
    },
    {
      "cell_type": "code",
      "metadata": {
        "id": "u7gO5HCfR2J3"
      },
      "source": [
        "import chainer\n",
        "chainer.print_runtime_info()"
      ],
      "execution_count": null,
      "outputs": []
    },
    {
      "cell_type": "code",
      "metadata": {
        "id": "J9S0HsGVVKb2"
      },
      "source": [
        "import cupy as cp"
      ],
      "execution_count": null,
      "outputs": []
    },
    {
      "cell_type": "markdown",
      "metadata": {
        "id": "QN38aF5bnyIC"
      },
      "source": [
        "## parametrs"
      ]
    },
    {
      "cell_type": "code",
      "metadata": {
        "id": "dmwt9IwVVo7-"
      },
      "source": [
        "num_weight = 5 \n",
        "weight = cp.random.uniform(low=-1.0, high=1.0, size=num_weight) \n",
        "individum = cp.random.randint(500,2000)\n",
        "pop_size = (individum, num_weight)\n",
        "new_pop_gpu = cp.array(new_pop)\n",
        "max_gen = np.random.randint(low=2000,high=5000)\n",
        "num_parents = 8"
      ],
      "execution_count": null,
      "outputs": []
    },
    {
      "cell_type": "code",
      "metadata": {
        "id": "Kju9wFkCcJNZ"
      },
      "source": [
        "equation_inputs=cp.arange(-10,10,20/1000)\n",
        "noise = cp.random.uniform(equation_inputs.min()/5, equation_inputs.max()/5, (equation_inputs.shape[0], 1)).T\n",
        "equation_outputs=-equation_inputs**2+1+noise\n",
        "#ga_numpy.plot_res(equation_inputs,equation_outputs,equation_outputs)\n",
        "# Количество коэффициентов, которые мы хотим оптимизировать.\n",
        "num_weights = 5\n",
        "\n",
        "\"\"\"\n",
        "Genetic algorithm parameters:\n",
        "    Mating pool size\n",
        "    Population size\n",
        "\"\"\"\n",
        "sol_per_pop = 2000\n",
        "num_parents_mating = 500\n",
        "\n",
        "# Определение численности поколения.\n",
        "pop_size = (sol_per_pop,num_weights) # У населения будет хромосома sol_per_pop, где каждая хромосома имеет num_weights генов.\n",
        "#Создание начальной популяции. #Изменить\n",
        "const = 1\n",
        "new_population = cp.random.uniform(low=-const, high=const, size=pop_size)\n",
        "print(new_population)\n",
        "\n",
        "num_generations = 20"
      ],
      "execution_count": null,
      "outputs": []
    },
    {
      "cell_type": "markdown",
      "metadata": {
        "id": "dMORnYa2FGvX"
      },
      "source": [
        "## fitness func cupy"
      ]
    },
    {
      "cell_type": "code",
      "metadata": {
        "id": "KQHFTFmK81Wl"
      },
      "source": [
        "def fitnessGaCupy(weight, pop):\n",
        "    fitness = []\n",
        "    tmp = []\n",
        "    for p in pop:\n",
        "        for i in range(weight.shape[0]):\n",
        "            tmp = cp.abs(weight[i] - p[i]) / (cp.abs(weight[i]) + 1e-6) \n",
        "            sum = cp.sum(cp.array(tmp))\n",
        "        fitness.append(sum)\n",
        "    return cp.array(fitness)"
      ],
      "execution_count": null,
      "outputs": []
    },
    {
      "cell_type": "code",
      "metadata": {
        "id": "adXcEEqRbr2e"
      },
      "source": [
        "def cal_pop_fitness(equation_inputs, equation_outputs,pop):\n",
        "    # Вычисление значения пригодности каждого решения в текущей популяции.\n",
        "    # Матрица для умножения\n",
        "    matrix_for_product = cp.ones((pop.shape[1], equation_inputs.shape[0]))\n",
        "    matrix_for_product[1, :] = copy.deepcopy(equation_inputs)\n",
        "    matrix_for_product[2, :] = equation_inputs ** 2\n",
        "    if (matrix_for_product.shape[0]>3):\n",
        "        matrix_for_product[3, :] = equation_inputs ** 3\n",
        "        if (matrix_for_product.shape[0] > 4):\n",
        "            matrix_for_product[4, :] = equation_inputs ** 4\n",
        "    massiv_of_y = cp.dot(pop, matrix_for_product)\n",
        "    # Разность\n",
        "    dist = equation_outputs - massiv_of_y\n",
        "    # Функция пригодности вычисляет сумму продуктов между каждым входом и соответствующим ему весом.\n",
        "    fitness = cp.abs(dist).max(axis=1)\n",
        "    return fitness"
      ],
      "execution_count": null,
      "outputs": []
    },
    {
      "cell_type": "markdown",
      "metadata": {
        "id": "YnBr-bqdFUXf"
      },
      "source": [
        "## parents func cupy"
      ]
    },
    {
      "cell_type": "code",
      "metadata": {
        "id": "Filaek4YFPK8"
      },
      "source": [
        "def matingPoolGaCupy(pop, fitness, num_parents):\n",
        "    parents = cp.empty((num_parents, pop.shape[1]))\n",
        "    first = True\n",
        "    for parent_num in range(num_parents):\n",
        "        max_fitness_idx = cp.argmin(fitness)\n",
        "        parents[parent_num, :] = pop[max_fitness_idx, :]\n",
        "        fitness[max_fitness_idx] = 99999999999\n",
        "    return parents"
      ],
      "execution_count": null,
      "outputs": []
    },
    {
      "cell_type": "code",
      "metadata": {
        "id": "yJ15h4WJbY-a"
      },
      "source": [
        "def matingPoolGaCupy(pop, fitness, num_parents):\n",
        "    # Выбор лучших особей текущего поколения в качестве родителей для производства потомства следующего поколения.\n",
        "    parents = cp.empty((num_parents, pop.shape[1]))\n",
        "    for parent_num in range(num_parents):\n",
        "        min_fitness_idx = cp.where(fitness == cp.min(fitness))\n",
        "        min_fitness_idx = min_fitness_idx[0][0]\n",
        "        parents[parent_num, :] = pop[min_fitness_idx, :]\n",
        "        fitness[min_fitness_idx] = 99999999999\n",
        "    return parents"
      ],
      "execution_count": null,
      "outputs": []
    },
    {
      "cell_type": "markdown",
      "metadata": {
        "id": "pFvTIkx6FLHc"
      },
      "source": [
        "## crossover func cupy"
      ]
    },
    {
      "cell_type": "code",
      "metadata": {
        "id": "YLdy-0z5px_l"
      },
      "source": [
        "def crossoverGaCupy(parents, offspring_size):\n",
        "    offspring = cp.empty(offspring_size)\n",
        "    crossover_point = cp.uint8(offspring_size[1]/2)\n",
        "\n",
        "    for k in range(offspring_size[0]):\n",
        "        parent1_idx = k % parents.shape[0]\n",
        "        parent2_idx = (k + 1) % parents.shape[0]\n",
        "        offspring[k, :crossover_point] = parents[parent1_idx, :crossover_point]\n",
        "        offspring[k, crossover_point:] = parents[parent2_idx, crossover_point:]\n",
        "\n",
        "    return cp.array(offspring)"
      ],
      "execution_count": null,
      "outputs": []
    },
    {
      "cell_type": "code",
      "metadata": {
        "id": "R_ygnWvzaw2I"
      },
      "source": [
        "def crossoverGaCupy(parents, offspring_size):\n",
        "    offspring = cp.empty(offspring_size)\n",
        "    # Точка, в которой происходит кроссовер между двумя родителями. Обычно это в центре.\n",
        "    crossover_point = cp.uint8(offspring_size[1]/2)\n",
        "\n",
        "    for k in range(offspring_size[0]):\n",
        "        # Индекс первого скрещенного родителя.\n",
        "        parent1_idx = k%parents.shape[0]\n",
        "        # Индекс второго родителя для скрещивания.\n",
        "        parent2_idx = (k+1)%parents.shape[0]\n",
        "        # У нового потомства первая половина генов будет заимствована у первого родителя.\n",
        "        offspring[k, 0:crossover_point] = parents[parent1_idx, 0:crossover_point]\n",
        "        # У нового потомства вторая половина генов будет взята от второго родителя.\n",
        "        offspring[k, crossover_point:] = parents[parent2_idx, crossover_point:]\n",
        "    return offspring\n"
      ],
      "execution_count": null,
      "outputs": []
    },
    {
      "cell_type": "markdown",
      "metadata": {
        "id": "wCPtN05yFjpd"
      },
      "source": [
        "## mutation func cupy"
      ]
    },
    {
      "cell_type": "code",
      "metadata": {
        "id": "ZfdlAorMFgre"
      },
      "source": [
        "def mutationGACupy(offspring_crossover):\n",
        "    for idx in range(offspring_crossover.shape[0]):\n",
        "        random_value = cp.random.uniform(-1.0, 1.0, 1)\n",
        "        offspring_crossover[idx, 2] = offspring_crossover[idx, 2] + random_value\n",
        "\n",
        "    return offspring_crossover"
      ],
      "execution_count": null,
      "outputs": []
    },
    {
      "cell_type": "markdown",
      "metadata": {
        "id": "PXEx_ZS0Fyfe"
      },
      "source": [
        "## examaple"
      ]
    },
    {
      "cell_type": "code",
      "metadata": {
        "id": "OOfw8xFRHHcT"
      },
      "source": [
        "tic = time.time()\n",
        "for generation in range(num_generations):\n",
        "    print(\"Generation : \", generation)\n",
        "    # Измерение приспособленности каждой хромосомы в популяции.\n",
        "    fitness = fitnessGaCupy(equation_inputs, equation_outputs, new_population)\n",
        "\n",
        "    # Выбор лучших родителей в популяции для вязки.\n",
        "    parents = matingPoolGaCupy(new_population, fitness,\n",
        "                                      num_parents_mating)\n",
        "\n",
        "    # Создание нового поколения с использованием кроссовера.\n",
        "    offspring_crossover = crossoverGaCupy(parents,\n",
        "                                       offspring_size=(pop_size[0]-parents.shape[0], num_weights))\n",
        "\n",
        "    # Добавление некоторых вариаций потомству с помощью мутации.\n",
        "    offspring_mutation = mutationGACupy(offspring_crossover,const)\n",
        "\n",
        "    # Создание новой популяции на основе родителей и потомства.\n",
        "    new_population[0:parents.shape[0], :] = parents\n",
        "    new_population[parents.shape[0]:, :] = offspring_mutation\n",
        "\n",
        "    # Лучший результат в текущей итерации.#Изменить\n",
        "    # Матрица для умножения\n",
        "    matrix_for_product = cp.ones((new_population.shape[1], equation_inputs.shape[0]))\n",
        "    matrix_for_product[1, :] = copy.deepcopy(equation_inputs)\n",
        "    matrix_for_product[2, :] = equation_inputs ** 2\n",
        "    if (matrix_for_product.shape[0]>3):\n",
        "        matrix_for_product[3, :] = equation_inputs ** 3\n",
        "        if (matrix_for_product.shape[0] > 4):\n",
        "            matrix_for_product[4, :] = equation_inputs ** 4\n",
        "    massiv_of_y = cp.dot(new_population, matrix_for_product)\n",
        "    # Разность\n",
        "    dist = equation_outputs - massiv_of_y\n",
        "    # Функция пригодности вычисляет сумму продуктов между каждым входом и соответствующим ему весом.\n",
        "    fitness_print = cp.abs(dist).max(axis=1)\n",
        "    print(\"Лучший результат : \", cp.min(fitness_print))\n",
        "\n",
        "# Получение лучшего решения после итераций, завершающих все поколения.\n",
        "#Сначала рассчитывается пригодность для каждого решения в последнем поколении.\n",
        "fitness = ga_cupy.cal_pop_fitness(equation_inputs, equation_outputs, new_population)\n",
        "# Затем верните индекс этого решения, соответствующего наилучшей пригодности.\n",
        "best_match_idx = cp.where(fitness == cp.min(fitness))\n",
        "toc = time.time()\n",
        "print('Затрачиваемое время cupy: %f с.' % (toc - tic))\n",
        "# Матрица для умножения\n",
        "matrix_for_product = cp.ones((new_population.shape[1], equation_inputs.shape[0]))\n",
        "matrix_for_product[1, :] = copy.deepcopy(equation_inputs)\n",
        "matrix_for_product[2, :] = equation_inputs ** 2\n",
        "if (matrix_for_product.shape[0] > 3):\n",
        "    matrix_for_product[3, :] = equation_inputs ** 3\n",
        "    if (matrix_for_product.shape[0] > 4):\n",
        "        matrix_for_product[4, :] = equation_inputs ** 4\n",
        "coefs_final = new_population[best_match_idx[0], :].reshape(1,new_population.shape[1])\n",
        "massiv_of_y1 = cp.dot(coefs_final, matrix_for_product).reshape(equation_inputs.shape[0],)\n",
        "equation_inputs_n=cp.asnumpy(equation_inputs)\n",
        "massiv_of_y1_n=cp.asnumpy(massiv_of_y1)\n",
        "equation_outputs_n=cp.asnumpy(massiv_of_y1)\n",
        "ga_cupy.plot_res(equation_inputs_n,massiv_of_y1_n,equation_outputs_n)\n",
        "\n",
        "print(\"Лучший результат : \", new_population[best_match_idx[0], :])\n",
        "print(\"Лучшее значения приспособленности : \", fitness[best_match_idx[0]])"
      ],
      "execution_count": null,
      "outputs": []
    },
    {
      "cell_type": "markdown",
      "metadata": {
        "id": "ir2pJjhHF4TD"
      },
      "source": [
        "## visual true and predict polynom"
      ]
    },
    {
      "cell_type": "code",
      "metadata": {
        "id": "QuWQbZRUF35H"
      },
      "source": [
        "best_weight = new_pop[np.argmin(fitnessGA(weight, new_pop))]\n",
        "y_pred = np.array([\n",
        "    best_weight[0] * (x**4) + \n",
        "    best_weight[1] * (x**3) + \n",
        "    best_weight[2] * (x**2) + \n",
        "    best_weight[3] * x +\n",
        "    best_weight[4] for x in x         \n",
        "])\n",
        "\n",
        "fig, ax = plt.subplots(figsize = (12, 6))\n",
        "ax.plot(x, y, label='true', color='#ed8087', linewidth=3)\n",
        "ax.plot(x, y_pred, label='predicted', color='#d036ff', linewidth=3)\n",
        "ax.grid(True)\n",
        "ax.legend(fontsize=14)\n",
        "\n",
        "fig.show()"
      ],
      "execution_count": null,
      "outputs": []
    },
    {
      "cell_type": "code",
      "metadata": {
        "id": "4zZcBgXUWDwu"
      },
      "source": [
        "df = pd.DataFrame(data={\n",
        "    'CPU':{\n",
        "        'time':time_gpu,\n",
        "        'gen':max_gen\n",
        "    }\n",
        "})"
      ],
      "execution_count": null,
      "outputs": []
    },
    {
      "cell_type": "markdown",
      "metadata": {
        "id": "8vJMoVi0Pt4b"
      },
      "source": [
        "# genetic alg with pyCUDA"
      ]
    },
    {
      "cell_type": "code",
      "metadata": {
        "id": "PJbhyX2_QG7_"
      },
      "source": [
        "!pip install pycuda"
      ],
      "execution_count": null,
      "outputs": []
    },
    {
      "cell_type": "code",
      "metadata": {
        "id": "7kb_qlMst4qX"
      },
      "source": [
        "!pip install scikit-cuda"
      ],
      "execution_count": null,
      "outputs": []
    },
    {
      "cell_type": "code",
      "metadata": {
        "id": "NY8YFquwPxZ7"
      },
      "source": [
        "from pycuda import driver, compiler, gpuarray, tools\n",
        "import pycuda.autoinit\n",
        "from pycuda.tools import make_default_context\n",
        "from pycuda.curandom import rand as curand\n",
        "from pycuda import cumath\n",
        "from skcuda import linalg, misc\n",
        "linalg.init()\n",
        "misc.init()\n",
        "import xgboost"
      ],
      "execution_count": null,
      "outputs": []
    },
    {
      "cell_type": "code",
      "metadata": {
        "id": "FEZnSChMDlYS"
      },
      "source": [
        "import torch\n",
        "import torch.optim as optim\n",
        "import torch.nn as nn\n",
        "#from torchviz import make_dot\n",
        "\n",
        "device = 'cuda' if torch.cuda.is_available() else 'cpu'\n"
      ],
      "execution_count": null,
      "outputs": []
    },
    {
      "cell_type": "code",
      "metadata": {
        "id": "qwQJSkS1QgAj"
      },
      "source": [
        "num_weight = 5 \n",
        "weight =  torch.from_numpy(np.random.uniform(low=-1.0, high=1.0, size=num_weight)).float().to(device)\n",
        "individum = 1000\n",
        "pop_size = (individum, num_weight)\n",
        "pop = torch.from_numpy(np.random.uniform(low=-1.0, high=1.0, size=pop_size)).float().to(device)\n",
        "max_gen = 2000\n",
        "num_parents = 8"
      ],
      "execution_count": null,
      "outputs": []
    },
    {
      "cell_type": "code",
      "metadata": {
        "id": "PxehDZ3iu9AG"
      },
      "source": [
        "%time gpuarray.sum(pop)"
      ],
      "execution_count": null,
      "outputs": []
    },
    {
      "cell_type": "code",
      "metadata": {
        "id": "SupxUTyrusUZ"
      },
      "source": [
        "%time misc.sum(pop)"
      ],
      "execution_count": null,
      "outputs": []
    },
    {
      "cell_type": "code",
      "metadata": {
        "id": "Dz6P1eq9wg8f"
      },
      "source": [
        " / (np.abs(weight[i]) + 1e-6) for i in range(weight.shape[0])]))"
      ],
      "execution_count": null,
      "outputs": []
    },
    {
      "cell_type": "code",
      "metadata": {
        "id": "QvgpK1nPsE6S"
      },
      "source": [
        "def fitnessSkCUDA(weight, pop):\n",
        "    loss = nn.MSELoss()\n",
        "    return loss(pop, weight)"
      ],
      "execution_count": null,
      "outputs": []
    },
    {
      "cell_type": "code",
      "metadata": {
        "id": "71JwHmvLxfXE"
      },
      "source": [
        "t = time.time()\n",
        "fitness = fitnessSkCUDA(weight, pop)\n",
        "print('time', time.time() - t)"
      ],
      "execution_count": null,
      "outputs": []
    },
    {
      "cell_type": "code",
      "metadata": {
        "id": "g4jl2eoVxn5I"
      },
      "source": [
        "fitness.shape"
      ],
      "execution_count": null,
      "outputs": []
    },
    {
      "cell_type": "code",
      "metadata": {
        "id": "aBIz0CX_yyix"
      },
      "source": [
        ""
      ],
      "execution_count": null,
      "outputs": []
    }
  ]
}