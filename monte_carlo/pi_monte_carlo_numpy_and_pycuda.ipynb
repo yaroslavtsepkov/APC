{
  "nbformat": 4,
  "nbformat_minor": 0,
  "metadata": {
    "colab": {
      "name": "pi_monte_carlo_numpy_and_pycuda.ipynb",
      "private_outputs": true,
      "provenance": [],
      "authorship_tag": "ABX9TyMlcP5I1DJo4EWQvZlVy5wO",
      "include_colab_link": true
    },
    "kernelspec": {
      "name": "python3",
      "display_name": "Python 3"
    },
    "accelerator": "GPU"
  },
  "cells": [
    {
      "cell_type": "markdown",
      "metadata": {
        "id": "view-in-github",
        "colab_type": "text"
      },
      "source": [
        "<a href=\"https://colab.research.google.com/github/yaroslavtsepkov/APC/blob/main/monte_carlo/pi_monte_carlo_numpy_and_pycuda.ipynb\" target=\"_parent\"><img src=\"https://colab.research.google.com/assets/colab-badge.svg\" alt=\"Open In Colab\"/></a>"
      ]
    },
    {
      "cell_type": "code",
      "metadata": {
        "id": "ZGp4Hbh80Zbd"
      },
      "source": [
        "!pip install pycuda"
      ],
      "execution_count": null,
      "outputs": []
    },
    {
      "cell_type": "code",
      "metadata": {
        "id": "lcH4eoHGz7oZ"
      },
      "source": [
        "import numpy as np\n",
        "import time\n",
        "import pandas as pd\n",
        "\n",
        "import pycuda.gpuarray as gpuarray\n",
        "import pycuda.autoinit\n",
        "from  pycuda import  driver\n",
        "from pycuda.compiler import SourceModule\n",
        "from pycuda.curandom import rand as curand"
      ],
      "execution_count": null,
      "outputs": []
    },
    {
      "cell_type": "code",
      "metadata": {
        "id": "pONortYA0Gcw"
      },
      "source": [
        "def genData(p):\n",
        "    x_gpu = curand((p,), dtype=np.double) \n",
        "    y_gpu = curand((p,), dtype=np.double)\n",
        "    x = x_gpu.get().astype(np.double)\n",
        "    y = y_gpu.get().astype(np.double)\n",
        "    return x, y, p"
      ],
      "execution_count": null,
      "outputs": []
    },
    {
      "cell_type": "code",
      "metadata": {
        "id": "fGbASShaC3DJ"
      },
      "source": [
        "x, y, p = genData(p=1024 * 1024)"
      ],
      "execution_count": null,
      "outputs": []
    },
    {
      "cell_type": "code",
      "metadata": {
        "id": "bIoWDRZk1R02"
      },
      "source": [
        "def cpu_pi_monte_carlo(x, y, p):\n",
        "    cpu_count = 0\n",
        "    gen_cpu = [cpu_count + 1 for i in range(p) if (x[i] ** 2 + y[i] ** 2) < 1]\n",
        "    result = 4/p * sum(gen_cpu)\n",
        "    return result"
      ],
      "execution_count": null,
      "outputs": []
    },
    {
      "cell_type": "code",
      "metadata": {
        "id": "XYhqdfXD2oa3"
      },
      "source": [
        "mod = SourceModule(\"\"\"\n",
        "                __global__ void gpu_pi_monte_carlo(double *x, double *y, double *count) {\n",
        "        int idx = blockIdx.x * blockDim.x + threadIdx.x; \n",
        "        int threadCount = gridDim.x * blockDim.x;\n",
        "        int p = 1024 * 1024;\n",
        "        int count_gpu = 0;\n",
        "        for (int i = idx; i < p; i += threadCount) {\n",
        "                if (x[i] * x[i] + y[i] * y[i] < 1) {\n",
        "                        count_gpu++;\n",
        "                }\n",
        "        }\n",
        "        atomicAdd(count , count_gpu);\n",
        "}\n",
        "\"\"\")"
      ],
      "execution_count": null,
      "outputs": []
    },
    {
      "cell_type": "code",
      "metadata": {
        "id": "SSv7xQCd3np3"
      },
      "source": [
        "t = time.time()\n",
        "cpu_result = cpu_pi_monte_carlo(x, y, p)\n",
        "cpu_time = time.time() - t"
      ],
      "execution_count": null,
      "outputs": []
    },
    {
      "cell_type": "code",
      "metadata": {
        "id": "_98czEL15S27"
      },
      "source": [
        "gpu_result = gpuarray.zeros((1,), dtype=np.double)\n",
        "gpu_result  = gpu_result.get()"
      ],
      "execution_count": null,
      "outputs": []
    },
    {
      "cell_type": "code",
      "metadata": {
        "id": "7lOLsE9m3NIW"
      },
      "source": [
        "gpu_pi_monte_carlo = mod.get_function(\"gpu_pi_monte_carlo\")\n",
        "t = time.time()\n",
        "gpu_pi_monte_carlo(driver.In(x), driver.In(y),  driver.Out(gpu_result), np.int32(p), block = (128, 1, 1), grid =(int(p/(128 * 128)), 1))\n",
        "driver.Context.synchronize()\n",
        "gpu_time = time.time() - t\n",
        "gpu_result =  gpu_result[0] * 4/p"
      ],
      "execution_count": null,
      "outputs": []
    },
    {
      "cell_type": "code",
      "metadata": {
        "id": "4Oas_8dV4Ufm"
      },
      "source": [
        "df = pd.DataFrame(data={\n",
        "    'CPU':{\n",
        "        'PI':cpu_result,\n",
        "        'Time, ms': round(cpu_time, 5),\n",
        "    },\n",
        "    'pyCUDA':{\n",
        "        'PI':result_gpu,\n",
        "        'Time, ms': round(gpu_time, 5),\n",
        "    }\n",
        "})"
      ],
      "execution_count": null,
      "outputs": []
    },
    {
      "cell_type": "code",
      "metadata": {
        "id": "vrGM730-4-Qq"
      },
      "source": [
        "df"
      ],
      "execution_count": null,
      "outputs": []
    },
    {
      "cell_type": "code",
      "metadata": {
        "id": "fJLqGM4NHXzM"
      },
      "source": [
        "df.to_csv()"
      ],
      "execution_count": null,
      "outputs": []
    },
    {
      "cell_type": "code",
      "metadata": {
        "id": "bxNmN9juNRpv"
      },
      "source": [
        ""
      ],
      "execution_count": null,
      "outputs": []
    }
  ]
}