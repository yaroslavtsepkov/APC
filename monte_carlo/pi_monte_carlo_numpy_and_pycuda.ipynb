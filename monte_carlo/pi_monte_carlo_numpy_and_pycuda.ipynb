{
  "nbformat": 4,
  "nbformat_minor": 0,
  "metadata": {
    "colab": {
      "name": "pi_monte_carlo_numpy_and_pycuda.ipynb",
      "private_outputs": true,
      "provenance": [],
      "authorship_tag": "ABX9TyOoudC60z64Eh7zlpLir+s2",
      "include_colab_link": true
    },
    "kernelspec": {
      "name": "python3",
      "display_name": "Python 3"
    },
    "accelerator": "GPU"
  },
  "cells": [
    {
      "cell_type": "markdown",
      "metadata": {
        "id": "view-in-github",
        "colab_type": "text"
      },
      "source": [
        "<a href=\"https://colab.research.google.com/github/yaroslavtsepkov/APC/blob/main/monte_carlo/pi_monte_carlo_numpy_and_pycuda.ipynb\" target=\"_parent\"><img src=\"https://colab.research.google.com/assets/colab-badge.svg\" alt=\"Open In Colab\"/></a>"
      ]
    },
    {
      "cell_type": "code",
      "metadata": {
        "id": "ZGp4Hbh80Zbd"
      },
      "source": [
        "!pip install pycuda"
      ],
      "execution_count": null,
      "outputs": []
    },
    {
      "cell_type": "code",
      "metadata": {
        "id": "pshVHFjpY8GE"
      },
      "source": [
        "!pip install scikit-cuda"
      ],
      "execution_count": null,
      "outputs": []
    },
    {
      "cell_type": "code",
      "metadata": {
        "id": "lcH4eoHGz7oZ"
      },
      "source": [
        "import numpy as np\n",
        "import time\n",
        "import pandas as pd\n",
        "import cupy as cp\n",
        "import pycuda.gpuarray as gpuarray\n",
        "import pycuda.autoinit\n",
        "from  pycuda import  driver\n",
        "from pycuda import cumath\n",
        "from pycuda.compiler import SourceModule\n",
        "from pycuda.curandom import rand as curand\n",
        "import matplotlib.pyplot as plt\n"
      ],
      "execution_count": null,
      "outputs": []
    },
    {
      "cell_type": "code",
      "metadata": {
        "id": "pONortYA0Gcw"
      },
      "source": [
        "def genData(p):\n",
        "    x_gpu = curand((p,), dtype=np.double) \n",
        "    y_gpu = curand((p,), dtype=np.double)\n",
        "    x = x_gpu.get().astype(np.float)\n",
        "    y = y_gpu.get().astype(np.float)\n",
        "    return x, y, p"
      ],
      "execution_count": null,
      "outputs": []
    },
    {
      "cell_type": "code",
      "metadata": {
        "id": "KYMQ3W4FT_g6"
      },
      "source": [
        "def piCalcNumpy(x, y, p):\n",
        "    values = x ** 2 + y ** 2 < 1\n",
        "    return 4.0/p * values[values == True].shape[0]"
      ],
      "execution_count": null,
      "outputs": []
    },
    {
      "cell_type": "code",
      "metadata": {
        "id": "nm0AYxwfW9wy"
      },
      "source": [
        "def piCalcCupy(x, y, p):\n",
        "    x, y = cp.array(x), cp.array(y)\n",
        "    values = cp.power(x, 2) + cp.power(y, 2) < 1\n",
        "    return 4.0/p * values[values == True].shape[0]"
      ],
      "execution_count": null,
      "outputs": []
    },
    {
      "cell_type": "code",
      "metadata": {
        "id": "pgTeOvvHX7ia"
      },
      "source": [
        "def piCalcPyCUDA(x, y, p):\n",
        "    x, y = gpuarray.to_gpu(x), gpuarray.to_gpu(y)\n",
        "    values = x ** 2 + y ** 2 < 1\n",
        "    return float((4.0 / p * gpuarray.sum(values)).get())"
      ],
      "execution_count": null,
      "outputs": []
    },
    {
      "cell_type": "code",
      "metadata": {
        "id": "JO2mz4T0gvAc"
      },
      "source": [
        "points = [1024, 2048, 4096, 65536, 16777216]"
      ],
      "execution_count": null,
      "outputs": []
    },
    {
      "cell_type": "code",
      "metadata": {
        "id": "fg_EddMRePGY"
      },
      "source": [
        "numpytime, numpyresult = [],[]\n",
        "cupytime, cupyresult = [], []\n",
        "pycudatime, pycudaresult = [],[]\n",
        "pycudatime_kernal, pycudaresult_kernal = [],[]"
      ],
      "execution_count": null,
      "outputs": []
    },
    {
      "cell_type": "code",
      "metadata": {
        "id": "HYqpVFtXgIBW"
      },
      "source": [
        "for p in points:\n",
        "    x, y, p = genData(p)\n",
        "    t=time.time()\n",
        "    numpyresult.append(piCalcNumpy(x,y,p))\n",
        "    numpytime.append(time.time()-t)\n",
        "    t=time.time()\n",
        "    cupyresult.append(piCalcCupy(x,y,p))\n",
        "    cupytime.append(time.time()-t)\n",
        "    t=time.time()\n",
        "    pycudaresult.append(piCalcPyCUDA(x,y,p))\n",
        "    pycudatime.append(time.time()-t)\n",
        " "
      ],
      "execution_count": null,
      "outputs": []
    },
    {
      "cell_type": "code",
      "metadata": {
        "id": "XYhqdfXD2oa3"
      },
      "source": [
        "mod = SourceModule(\"\"\"\n",
        "                __global__ void gpu_pi_monte_carlo(double *x, double *y, double *count) {\n",
        "        int idx = blockIdx.x * blockDim.x + threadIdx.x; \n",
        "        int threadCount = gridDim.x * blockDim.x;\n",
        "        int p = 16777216;\n",
        "        int count_gpu = 0;\n",
        "        for (int i = idx; i < p; i += threadCount) {\n",
        "                if (x[i] * x[i] + y[i] * y[i] < 1) {\n",
        "                        count_gpu++;\n",
        "                }\n",
        "        }\n",
        "        atomicAdd(count , count_gpu);\n",
        "}\n",
        "\"\"\")"
      ],
      "execution_count": null,
      "outputs": []
    },
    {
      "cell_type": "code",
      "metadata": {
        "id": "7lOLsE9m3NIW"
      },
      "source": [
        "gpu_pi_monte_carlo = mod.get_function(\"gpu_pi_monte_carlo\")\n",
        "t = time.time()\n",
        "gpu_result = gpuarray.zeros((1,), dtype=np.double)\n",
        "gpu_result  = gpu_result.get()\n",
        "gpu_pi_monte_carlo(driver.In(x), driver.In(y),  driver.Out(gpu_result), np.int32(p), block = (128, 1, 1), grid =(int(p/(128 * 128)), 1))\n",
        "driver.Context.synchronize()\n",
        "pycudatime_kernal.append(time.time()-t)\n",
        "pycudaresult_kernal.append(gpu_result[0] * 4/p)"
      ],
      "execution_count": null,
      "outputs": []
    },
    {
      "cell_type": "code",
      "metadata": {
        "id": "4Oas_8dV4Ufm"
      },
      "source": [
        "data={'numpyresult':numpyresult,'cupyresult':cupyresult,'pycudaresult':pycudaresult,'pycudaresult_kernal':pycudaresult_kernal}"
      ],
      "execution_count": null,
      "outputs": []
    },
    {
      "cell_type": "code",
      "metadata": {
        "id": "fF4ASeUCnk6h"
      },
      "source": [
        "data"
      ],
      "execution_count": null,
      "outputs": []
    },
    {
      "cell_type": "code",
      "metadata": {
        "id": "lSE3mzcTmu0q"
      },
      "source": [
        "data_time={'numpytime':numpytime,'cupytime':cupytime,'pycudatime':pycudatime,'pycudatime_kernal':pycudatime_kernal}\n",
        "data_time"
      ],
      "execution_count": null,
      "outputs": []
    },
    {
      "cell_type": "code",
      "metadata": {
        "id": "HqXknNrKnmm8"
      },
      "source": [
        "pd.DataFrame(data = data, index=points, )"
      ],
      "execution_count": null,
      "outputs": []
    },
    {
      "cell_type": "code",
      "metadata": {
        "id": "hpvoQuhSsb8x"
      },
      "source": [
        "pd.DataFrame(data = data_time, index=points, )"
      ],
      "execution_count": null,
      "outputs": []
    },
    {
      "cell_type": "code",
      "metadata": {
        "id": "MkcyYaXonq0o"
      },
      "source": [
        "data_time.keys()"
      ],
      "execution_count": null,
      "outputs": []
    },
    {
      "cell_type": "code",
      "metadata": {
        "id": "WHV2CZbTmLQD"
      },
      "source": [
        "for i in data_time:\n",
        "    print(data_time[i])"
      ],
      "execution_count": null,
      "outputs": []
    },
    {
      "cell_type": "code",
      "metadata": {
        "id": "fJLqGM4NHXzM"
      },
      "source": [
        "df.to_csv()"
      ],
      "execution_count": null,
      "outputs": []
    },
    {
      "cell_type": "code",
      "metadata": {
        "id": "bxNmN9juNRpv"
      },
      "source": [
        ""
      ],
      "execution_count": null,
      "outputs": []
    }
  ]
}