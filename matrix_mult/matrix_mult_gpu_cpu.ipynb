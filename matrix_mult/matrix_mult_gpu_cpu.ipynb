{
 "cells": [
  {
   "cell_type": "markdown",
   "metadata": {
    "id": "71kDd80VJcA6"
   },
   "source": [
    "# CPU INFO"
   ]
  },
  {
   "cell_type": "code",
   "execution_count": 1,
   "metadata": {
    "colab": {
     "base_uri": "https://localhost:8080/"
    },
    "id": "xgcbZhZA_z05",
    "outputId": "9325b2db-6909-4e45-e008-a98757ef628e"
   },
   "outputs": [
    {
     "name": "stdout",
     "output_type": "stream",
     "text": [
      "Model name:                      AMD Ryzen 7 2700 Eight-Core Processor\r\n"
     ]
    }
   ],
   "source": [
    "!lscpu |grep 'Model name'"
   ]
  },
  {
   "cell_type": "markdown",
   "metadata": {
    "id": "QBehyCremV7q"
   },
   "source": [
    "# GPU INFO"
   ]
  },
  {
   "cell_type": "code",
   "execution_count": 2,
   "metadata": {
    "colab": {
     "base_uri": "https://localhost:8080/"
    },
    "id": "wDySlvXomVNA",
    "outputId": "7b3ea281-a4a6-4cb8-85b8-17658109e6b2"
   },
   "outputs": [
    {
     "name": "stdout",
     "output_type": "stream",
     "text": [
      "Thu Apr  8 19:30:08 2021       \r\n",
      "+-----------------------------------------------------------------------------+\r\n",
      "| NVIDIA-SMI 460.39       Driver Version: 460.39       CUDA Version: 11.2     |\r\n",
      "|-------------------------------+----------------------+----------------------+\r\n",
      "| GPU  Name        Persistence-M| Bus-Id        Disp.A | Volatile Uncorr. ECC |\r\n",
      "| Fan  Temp  Perf  Pwr:Usage/Cap|         Memory-Usage | GPU-Util  Compute M. |\r\n",
      "|                               |                      |               MIG M. |\r\n",
      "|===============================+======================+======================|\r\n",
      "|   0  GeForce GTX 106...  Off  | 00000000:0A:00.0  On |                  N/A |\r\n",
      "| 25%   44C    P0    26W / 120W |    226MiB /  3016MiB |      3%      Default |\r\n",
      "|                               |                      |                  N/A |\r\n",
      "+-------------------------------+----------------------+----------------------+\r\n",
      "                                                                               \r\n",
      "+-----------------------------------------------------------------------------+\r\n",
      "| Processes:                                                                  |\r\n",
      "|  GPU   GI   CI        PID   Type   Process name                  GPU Memory |\r\n",
      "|        ID   ID                                                   Usage      |\r\n",
      "|=============================================================================|\r\n",
      "|    0   N/A  N/A      1090      G   /usr/lib/xorg/Xorg                219MiB |\r\n",
      "|    0   N/A  N/A      1493      G   xfwm4                               2MiB |\r\n",
      "|    0   N/A  N/A      3460      G   /usr/lib/firefox/firefox            1MiB |\r\n",
      "+-----------------------------------------------------------------------------+\r\n"
     ]
    }
   ],
   "source": [
    "!nvidia-smi"
   ]
  },
  {
   "cell_type": "markdown",
   "metadata": {
    "id": "u_ynz-JWfn0l"
   },
   "source": [
    "\n",
    "# Matrix multiplication\n"
   ]
  },
  {
   "cell_type": "code",
   "execution_count": 3,
   "metadata": {
    "colab": {
     "base_uri": "https://localhost:8080/"
    },
    "id": "2lRpRZX7w9Na",
    "outputId": "b86dc0f6-486e-4fdb-a430-d7baf3ea17ca"
   },
   "outputs": [],
   "source": [
    "import numpy as np\n",
    "import time\n",
    "import pandas as pd\n",
    "import matplotlib.pyplot as plt\n",
    "import seaborn as sns\n",
    "from pycuda import driver, compiler, gpuarray, tools\n",
    "import pycuda.autoinit\n",
    "from pycuda.tools import make_default_context\n",
    "import random\n",
    "random.seed(0)"
   ]
  },
  {
   "cell_type": "code",
   "execution_count": 4,
   "metadata": {
    "id": "0L2B1yIZd-IM"
   },
   "outputs": [],
   "source": [
    "def genMatrix(n):\n",
    "    return np.random.uniform(size=(n,n)).astype(np.float32)"
   ]
  },
  {
   "cell_type": "markdown",
   "metadata": {
    "id": "qEP-zO3GCOqd"
   },
   "source": [
    "# Перемножение матриц на CPU numpy.matmul"
   ]
  },
  {
   "cell_type": "code",
   "execution_count": 5,
   "metadata": {
    "id": "oD70YAzRFKEb"
   },
   "outputs": [],
   "source": [
    "def cpuMult(size):\n",
    "    time_cpu = []\n",
    "    for n in size:\n",
    "        matrix = genMatrix(n)\n",
    "        s = time.time()\n",
    "        np.matmul(matrix, matrix)\n",
    "        p = time.time()\n",
    "        time_cpu.append(p-s)\n",
    "    return np.array(time_cpu)"
   ]
  },
  {
   "cell_type": "markdown",
   "metadata": {
    "id": "rQDn63r4D7NV"
   },
   "source": [
    "# Перемножение матриц на GPU pyCUDA"
   ]
  },
  {
   "cell_type": "code",
   "execution_count": 6,
   "metadata": {
    "id": "AvJOjmsHD6XW"
   },
   "outputs": [],
   "source": [
    "def gpuPyCuda(n):\n",
    "    time_pycuda = []\n",
    "    for n in size:\n",
    "        matrix = genMatrix(n)\n",
    "        matrix = gpuarray.to_gpu(matrix) \n",
    "        matrix_result = gpuarray.empty((n, n), np.float32)\n",
    "        mod = compiler.SourceModule(\"\"\"\n",
    "__global__ void MatrixMulKernel(float *a, float *b, float *c)\n",
    "{\n",
    "    int idx = threadIdx.x + blockIdx.x * blockDim.x;\n",
    "    int idy = threadIdx.y + blockIdx.y * blockDim.y;\n",
    "    float Pvalue = 0;\n",
    "\n",
    "    for (int k = 0; k < %(MATRIX_SIZE)s; ++k) {\n",
    "        Pvalue += a[idy * %(MATRIX_SIZE)s + k] * b[k * %(MATRIX_SIZE)s + idx];\n",
    "    }\n",
    "    c[idy * %(MATRIX_SIZE)s + idx] = Pvalue;\n",
    "}\n",
    "\"\"\" % {'MATRIX_SIZE': n} )\n",
    "        matrixmul = mod.get_function(\"MatrixMulKernel\")\n",
    "        s = time.time()\n",
    "        matrixmul(matrix, matrix, matrix_result, block = (32, 32, 1),)\n",
    "        p = time.time()\n",
    "        time_pycuda.append(p-s)\n",
    "    return np.array(time_pycuda)"
   ]
  },
  {
   "cell_type": "markdown",
   "metadata": {
    "id": "XjAmJ2djDUyx"
   },
   "source": [
    "# Вычисления"
   ]
  },
  {
   "cell_type": "code",
   "execution_count": 1,
   "metadata": {
    "id": "z-OJJZF6RCYv"
   },
   "outputs": [],
   "source": [
    "startSizeMatrix = 50\n",
    "size = list(range(50, 3001, 50))"
   ]
  },
  {
   "cell_type": "code",
   "execution_count": 2,
   "metadata": {
    "id": "G9nDSk3eMYj6"
   },
   "outputs": [
    {
     "ename": "NameError",
     "evalue": "name 'cpuMult' is not defined",
     "output_type": "error",
     "traceback": [
      "\u001b[0;31m---------------------------------------------------------------------------\u001b[0m",
      "\u001b[0;31mNameError\u001b[0m                                 Traceback (most recent call last)",
      "\u001b[0;32m<ipython-input-2-51484d3392a9>\u001b[0m in \u001b[0;36m<module>\u001b[0;34m\u001b[0m\n\u001b[0;32m----> 1\u001b[0;31m \u001b[0mtime_cpu\u001b[0m \u001b[0;34m=\u001b[0m \u001b[0mcpuMult\u001b[0m\u001b[0;34m(\u001b[0m\u001b[0msize\u001b[0m\u001b[0;34m)\u001b[0m\u001b[0;34m\u001b[0m\u001b[0;34m\u001b[0m\u001b[0m\n\u001b[0m",
      "\u001b[0;31mNameError\u001b[0m: name 'cpuMult' is not defined"
     ]
    }
   ],
   "source": [
    "time_cpu = cpuMult(size)"
   ]
  },
  {
   "cell_type": "code",
   "execution_count": 3,
   "metadata": {},
   "outputs": [
    {
     "ename": "NameError",
     "evalue": "name 'time_cpu' is not defined",
     "output_type": "error",
     "traceback": [
      "\u001b[0;31m---------------------------------------------------------------------------\u001b[0m",
      "\u001b[0;31mNameError\u001b[0m                                 Traceback (most recent call last)",
      "\u001b[0;32m<ipython-input-3-5c02e5141e94>\u001b[0m in \u001b[0;36m<module>\u001b[0;34m\u001b[0m\n\u001b[0;32m----> 1\u001b[0;31m \u001b[0mtime_cpu\u001b[0m\u001b[0;34m\u001b[0m\u001b[0;34m\u001b[0m\u001b[0m\n\u001b[0m",
      "\u001b[0;31mNameError\u001b[0m: name 'time_cpu' is not defined"
     ]
    }
   ],
   "source": [
    "time_cpu"
   ]
  },
  {
   "cell_type": "code",
   "execution_count": 10,
   "metadata": {
    "id": "5gkc6WQDMbwj"
   },
   "outputs": [],
   "source": [
    "time_pycuda = gpuPyCuda(size)"
   ]
  },
  {
   "cell_type": "code",
   "execution_count": 11,
   "metadata": {},
   "outputs": [
    {
     "data": {
      "text/plain": [
       "array([5.28335571e-04, 3.86238098e-05, 6.34193420e-05, 6.22272491e-05,\n",
       "       6.36577606e-05, 6.24656677e-05, 6.27040863e-05, 3.81469727e-05,\n",
       "       4.12464142e-05, 4.43458557e-05, 4.45842743e-05, 4.79221344e-05,\n",
       "       5.00679016e-05, 5.24520874e-05, 5.43594360e-05, 5.12599945e-05,\n",
       "       5.19752502e-05, 4.91142273e-05, 5.05447388e-05, 5.00679016e-05,\n",
       "       5.10215759e-05, 5.00679016e-05, 5.07831573e-05, 5.00679016e-05,\n",
       "       4.98294830e-05, 5.17368317e-05, 5.22136688e-05, 5.22136688e-05,\n",
       "       5.17368317e-05, 5.26905060e-05, 5.26905060e-05, 5.38825989e-05,\n",
       "       5.38825989e-05, 5.45978546e-05, 5.29289246e-05, 5.41210175e-05,\n",
       "       5.36441803e-05, 5.45978546e-05, 5.41210175e-05, 5.45978546e-05])"
      ]
     },
     "execution_count": 11,
     "metadata": {},
     "output_type": "execute_result"
    }
   ],
   "source": [
    "time_pycuda"
   ]
  },
  {
   "cell_type": "markdown",
   "metadata": {
    "id": "V5ilK0pyDWxl"
   },
   "source": [
    "# Анализ и визуализация"
   ]
  },
  {
   "cell_type": "code",
   "execution_count": 12,
   "metadata": {
    "colab": {
     "base_uri": "https://localhost:8080/",
     "height": 206
    },
    "id": "A5YoBf1bPELL",
    "outputId": "bbc5085f-62ba-4875-e905-c04fe4dc5021"
   },
   "outputs": [],
   "source": [
    "df = pd.DataFrame({\n",
    "    'Размер матрицы': size,\n",
    "    'Время(с)': time_cpu,\n",
    "    'Тип процессора': len(size)*['CPU']\n",
    "})\n",
    "dfg = pd.DataFrame({\n",
    "    'Размер матрицы': size,\n",
    "    'Время(с)': time_pycuda,\n",
    "    'Тип процессора': len(size)*['GPU']\n",
    "})\n",
    "ddf = pd.concat([df,dfg])"
   ]
  },
  {
   "cell_type": "code",
   "execution_count": 14,
   "metadata": {
    "colab": {
     "base_uri": "https://localhost:8080/",
     "height": 924
    },
    "id": "nXf9Rxid3OiH",
    "outputId": "3e08105e-fb63-4a4a-987d-7aac23857986"
   },
   "outputs": [
    {
     "data": {
      "image/png": "[encoded data removed]",
      "text/plain": [
       "<Figure size 432x288 with 1 Axes>"
      ]
     },
     "metadata": {
      "needs_background": "light"
     },
     "output_type": "display_data"
    }
   ],
   "source": [
    "fig, ax = plt.subplots(1,1)\n",
    "ax = sns.scatterplot(data=ddf, x='Размер матрицы', y='Время(с)', hue='Тип процессора', palette='magma')"
   ]
  },
  {
   "cell_type": "code",
   "execution_count": null,
   "metadata": {
    "id": "7FYoP37zu-6r"
   },
   "outputs": [],
   "source": []
  }
 ],
 "metadata": {
  "accelerator": "GPU",
  "colab": {
   "authorship_tag": "ABX9TyNgUTpZey/AlA2AdTo7YlTL",
   "collapsed_sections": [],
   "include_colab_link": true,
   "name": "Lab_0_gpu_cpu.ipynb",
   "provenance": [],
   "toc_visible": true
  },
  "kernelspec": {
   "display_name": "Python 3",
   "language": "python",
   "name": "python3"
  },
  "language_info": {
   "codemirror_mode": {
    "name": "ipython",
    "version": 3
   },
   "file_extension": ".py",
   "mimetype": "text/x-python",
   "name": "python",
   "nbconvert_exporter": "python",
   "pygments_lexer": "ipython3",
   "version": "3.8.5"
  }
 },
 "nbformat": 4,
 "nbformat_minor": 1
}
